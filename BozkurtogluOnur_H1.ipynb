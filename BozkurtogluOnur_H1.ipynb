{
 "cells": [
  {
   "cell_type": "markdown",
   "metadata": {},
   "source": [
    "<h2><b><u>Group Members</u></b></h2>\n",
    "\n",
    "<h3>Nasip Efe TIĞLI</h3>\n",
    "<p>20170808020</p>\n",
    "<h3>Onur BOZKURTOĞLU</h3>\n",
    "<p>20170808044</p>"
   ]
  },
  {
   "cell_type": "markdown",
   "metadata": {},
   "source": [
    "# CME193 - Assignment 1\n",
    "\n",
    "In this assignment you will be learning about and implementing [Markov Chains](https://en.wikipedia.org/wiki/Markov_chain), if you have never heard  of them before, do not worry, this notebook will explain everything needed for the assignment.\n",
    "\n",
    "## Markov chains\n",
    "The best way to introduce what a Markov chain is with a simple example. Suppose you have a simple counter that you can set to any number between 0 and 9 (including 0 and 9). At every step you roll a standard 6 -sided die and depending on whether the rolled number is even or odd you either increment or decrement the counter. If you try to increment at 9, lets say it wraps around to 0 and similarly for trying to decrement at 0. Now you can play this game for multiple steps and record the counter value after every step, this is just a simple markov chain.\n",
    "\n",
    "Here is an example evolution of the markov chain,\n",
    "Start with counter at 1.\n",
    "- Step 1 : Roll a 4, its even so increment the counter to 2.\n",
    "- Step 2 : Roll a 2, its even so increment the counter to 3.\n",
    "- Step 3 : Roll a 5, its odd so decrement the counter to 2.\n",
    "\n",
    "etc.\n",
    "\n",
    "A markov chain consists of a set of n states (in our example it was the 10 states of the counter) and a probabilistic rule to jump to another state every step (the dice rolls). Although in our simple example we had a similar rule for each state, you can have a different rule for each state. For example you may say that if you the counter is odd, dont roll a die, always increment, and follow the die for even states. The rule is always in the form of n probabilities that sum to one. Each probability indicates the chance that it jumps to that state.\n",
    "\n",
    "In our example the rule for state 0 can be represented by the below numpy vector\n",
    "\n",
    "When you are in state 0, you have 50% chance of landing on state 1 (you rolled even) or a 50% chance of landing in state 9 ( you rolled odd and tried to decrement at 0)"
   ]
  },
  {
   "cell_type": "code",
   "execution_count": 1,
   "metadata": {},
   "outputs": [
    {
     "data": {
      "text/plain": [
       "array([0. , 0.5, 0. , 0. , 0. , 0. , 0. , 0. , 0. , 0.5])"
      ]
     },
     "execution_count": 1,
     "metadata": {},
     "output_type": "execute_result"
    }
   ],
   "source": [
    "import numpy as np\n",
    "np.array([0. , 0.5, 0. , 0. , 0. , 0. , 0. , 0. , 0. , 0.5])"
   ]
  },
  {
   "cell_type": "markdown",
   "metadata": {},
   "source": [
    "The index in the array represents the state and the value represents the probability with which you will jump to that state. Similarly this is the rule for state 4"
   ]
  },
  {
   "cell_type": "code",
   "execution_count": 2,
   "metadata": {},
   "outputs": [
    {
     "data": {
      "text/plain": [
       "array([0. , 0. , 0. , 0.5, 0. , 0.5, 0. , 0. , 0. , 0. ])"
      ]
     },
     "execution_count": 2,
     "metadata": {},
     "output_type": "execute_result"
    }
   ],
   "source": [
    "np.array([0. , 0. , 0. , 0.5, 0. , 0.5, 0. , 0. , 0. , 0. ])"
   ]
  },
  {
   "cell_type": "markdown",
   "metadata": {},
   "source": [
    "## Transition Matrix\n",
    "\n",
    "The way to represent markov chains is with a transition matrix $T$ of size (n,n), where the column i will the rule vector for the state i ( Here we are assuming that the states ae numbered 0 to n-1 ).\n",
    "\n",
    "Thus you can interpret the element $T_{ij}$ of the matrix as the probability you will jump to state i from the state j."
   ]
  },
  {
   "cell_type": "markdown",
   "metadata": {},
   "source": [
    "## Question 1\n",
    "\n",
    "Write a function to return the transition matrix for the following markov chain, given the number of states as an argument.\n",
    "\n",
    "The rule for the markov chain is as follows,\n",
    "\n",
    "If current state is i (and if i is not n-1)\n",
    "1. With probability 0.6, it goes to state i+1\n",
    "2. With probability 0.1, it will fall back to state i = 0.\n",
    "2. With probability 0.3, it goes to state i-1 if i is at least 1. If i is instead 0 it stays at state 0.\n",
    "3. At state n-1, instead of the above operations we stay at state n-1 with probability 1\n",
    "\n",
    "Intuitively, this markov chain behaves in the following way, at every step there is an 60% chance that it climbs up by 1, a 10% chance that it falls down completely, and a 30% chance it falls down by 1. If it does reach the final state n-1, it stays there forever.\n",
    "\n",
    "You are **not** allowed to use any for loops for this question, instead use numpy indexing to fill in your matrix. You can assume that n is atleast 4.\n",
    "\n",
    "Hints:\n",
    "1. First write your code in an empty cell for with a hardcoded n value, in this way you can quickly iterate and get the right answer first. Then copy it into the function.\n",
    "2. You can use [Array indexing](https://docs.scipy.org/doc/numpy-1.13.0/user/basics.indexing.html#index-arrays)"
   ]
  },
  {
   "cell_type": "code",
   "execution_count": 3,
   "metadata": {},
   "outputs": [],
   "source": [
    "##### YOUR CODE HERE\n",
    "def transition_matrix(n):\n",
    "    if n < 4:\n",
    "        raise ValueError('Matrix size at least 4x4')\n",
    "        \n",
    "    size = (n,n)\n",
    "    matrix = np.zeros(size)\n",
    "    \n",
    "    # Set 10% chance to falls down completely.\n",
    "    matrix[0, :n-1] = 0.1\n",
    "    \n",
    "    # Set 60% chance to climbs up by 1.\n",
    "    np.fill_diagonal(matrix[1:,:] , 0.6)\n",
    "    \n",
    "    # Set 30% chance it falls down by 1.\n",
    "    np.fill_diagonal(matrix[:,1:n-1], np.diag(matrix, k=1) + 0.3)\n",
    "    # Special Situation: Set 30% chance state 0 falls down by 1.\n",
    "    matrix[0][0] = matrix[0][0] + 0.3\n",
    "    \n",
    "    # Reaching fianl state means staying final state forever.\n",
    "    matrix[n-1][n-1] = 1\n",
    "    return matrix"
   ]
  },
  {
   "cell_type": "code",
   "execution_count": 4,
   "metadata": {},
   "outputs": [
    {
     "data": {
      "text/plain": [
       "array([[0.4, 0.4, 0.1, 0.1, 0.1, 0.1, 0.1, 0.1, 0.1, 0. ],\n",
       "       [0.6, 0. , 0.3, 0. , 0. , 0. , 0. , 0. , 0. , 0. ],\n",
       "       [0. , 0.6, 0. , 0.3, 0. , 0. , 0. , 0. , 0. , 0. ],\n",
       "       [0. , 0. , 0.6, 0. , 0.3, 0. , 0. , 0. , 0. , 0. ],\n",
       "       [0. , 0. , 0. , 0.6, 0. , 0.3, 0. , 0. , 0. , 0. ],\n",
       "       [0. , 0. , 0. , 0. , 0.6, 0. , 0.3, 0. , 0. , 0. ],\n",
       "       [0. , 0. , 0. , 0. , 0. , 0.6, 0. , 0.3, 0. , 0. ],\n",
       "       [0. , 0. , 0. , 0. , 0. , 0. , 0.6, 0. , 0.3, 0. ],\n",
       "       [0. , 0. , 0. , 0. , 0. , 0. , 0. , 0.6, 0. , 0. ],\n",
       "       [0. , 0. , 0. , 0. , 0. , 0. , 0. , 0. , 0.6, 1. ]])"
      ]
     },
     "execution_count": 4,
     "metadata": {},
     "output_type": "execute_result"
    }
   ],
   "source": [
    "#TESTING\n",
    "transition_matrix(10)"
   ]
  },
  {
   "cell_type": "markdown",
   "metadata": {},
   "source": [
    "To test your function , check that the above returns \n",
    "```\n",
    "array([[0.4, 0.4, 0.1, 0.1, 0.1, 0.1, 0.1, 0.1, 0.1, 0. ],\n",
    "       [0.6, 0. , 0.3, 0. , 0. , 0. , 0. , 0. , 0. , 0. ],\n",
    "       [0. , 0.6, 0. , 0.3, 0. , 0. , 0. , 0. , 0. , 0. ],\n",
    "       [0. , 0. , 0.6, 0. , 0.3, 0. , 0. , 0. , 0. , 0. ],\n",
    "       [0. , 0. , 0. , 0.6, 0. , 0.3, 0. , 0. , 0. , 0. ],\n",
    "       [0. , 0. , 0. , 0. , 0.6, 0. , 0.3, 0. , 0. , 0. ],\n",
    "       [0. , 0. , 0. , 0. , 0. , 0.6, 0. , 0.3, 0. , 0. ],\n",
    "       [0. , 0. , 0. , 0. , 0. , 0. , 0.6, 0. , 0.3, 0. ],\n",
    "       [0. , 0. , 0. , 0. , 0. , 0. , 0. , 0.6, 0. , 0. ],\n",
    "       [0. , 0. , 0. , 0. , 0. , 0. , 0. , 0. , 0.6, 1. ]])\n",
    "```"
   ]
  },
  {
   "cell_type": "markdown",
   "metadata": {},
   "source": [
    "## Question 2\n",
    "\n",
    "Now we want to use the transtion matrix to know what are the probabilites of being in each state after running the markov chain for k steps. For example, for the above markov chain, I want to know after 30 steps, what is the probablity that I have reached the state n-1.\n",
    "\n",
    "Luckily this is fairly easy to calculate, using matrix multiplication. An amazingly useful property of the transition matrix is as follows, if you have vector $p_j$ as the vector of probabilites after step $j$, then $p_{j+1}$ is given by the following matrix vector product.\n",
    "\n",
    "$$ p_{j+1} =  Tp_j $$\n",
    "\n",
    "We will not prove this result here, but if you spend some time thinking about what matrix multiplication is doing here, especially interpret it as taking a linear combination of columns then it should make sense.\n",
    "\n",
    "Thus if someone gave you a probability distribution for the starting state as $p_0$, then the probability distribtion after $k$ steps is simply given by multiplying by the transition matrix k times\n",
    "\n",
    "$$ p_{k} =  T^{k}p_0 $$\n",
    "\n",
    "Implement a function which given an initial distribution `p0`, number of steps `k` and a transition matrix `tm`, it will return the distribution after k steps"
   ]
  },
  {
   "cell_type": "code",
   "execution_count": 5,
   "metadata": {},
   "outputs": [],
   "source": [
    "#YOUR CODE HERE\n",
    "def propagate(p0,k,tm):\n",
    "    pk = np.dot(np.linalg.matrix_power(tm,k) , p0)\n",
    "    return pk"
   ]
  },
  {
   "cell_type": "code",
   "execution_count": 6,
   "metadata": {},
   "outputs": [
    {
     "data": {
      "text/plain": [
       "array([0.16029774, 0.13006664, 0.10561269, 0.08547506, 0.06947427,\n",
       "       0.05552321, 0.04450658, 0.03281234, 0.02049648, 0.29573499])"
      ]
     },
     "execution_count": 6,
     "metadata": {},
     "output_type": "execute_result"
    }
   ],
   "source": [
    "#TESTING\n",
    "tm = transition_matrix(10)\n",
    "p0 = np.zeros(10)\n",
    "p0[0] = 1\n",
    "pk = propagate(p0,30,tm)\n",
    "pk"
   ]
  },
  {
   "cell_type": "markdown",
   "metadata": {},
   "source": [
    "The above code should return :\n",
    "\n",
    "```\n",
    "array([0.16029774, 0.13006664, 0.10561269, 0.08547506, 0.06947427,\n",
    "       0.05552321, 0.04450658, 0.03281234, 0.02049648, 0.29573499])\n",
    "```"
   ]
  },
  {
   "cell_type": "markdown",
   "metadata": {},
   "source": [
    "## Question 3\n",
    "### Part a\n",
    "With this implementation of `propagate`, you can now compute the probability of being in each state of the markov chain after k steps. How many steps does it take for the probability of being in the final state to be at least 0.5?\n",
    "\n",
    "After each step the probability of being in the final state slowly increases: once we are in state n-1, we never leave. At some point this probability will cross 50%. What you need to calculate is how many steps does it take to cross 50%.\n",
    "\n",
    "Again use n=10 transition matrix and start from state 0.\n",
    "\n",
    "Hints:\n",
    "1. Use the while loop"
   ]
  },
  {
   "cell_type": "code",
   "execution_count": 7,
   "metadata": {},
   "outputs": [
    {
     "name": "stdout",
     "output_type": "stream",
     "text": [
      "50 times to reach final state probability with 0.5027436822948339\n"
     ]
    }
   ],
   "source": [
    "#YOUR CODE HERE\n",
    "finalStateProb = 0\n",
    "kSteps = 0\n",
    "numberOfRow, numberOfColm = tm.shape\n",
    "while finalStateProb < 0.5:\n",
    "    kSteps = kSteps + 1\n",
    "    pkStep = propagate(p0,kSteps,tm)\n",
    "    finalStateProb = pkStep[numberOfRow - 1]\n",
    "print(str(kSteps) + ' times to reach final state probability with ' + str(finalStateProb))"
   ]
  },
  {
   "cell_type": "markdown",
   "metadata": {},
   "source": [
    "### Part b\n",
    "Convert the above Code into a function that computes the number of steps to 50% probability in the final state given `n` the size of the markov chain"
   ]
  },
  {
   "cell_type": "code",
   "execution_count": 8,
   "metadata": {},
   "outputs": [],
   "source": [
    "#YOUR CODE HERE\n",
    "def num_steps(n):\n",
    "    # Initilize transition matrix.\n",
    "    tm = transition_matrix(n)\n",
    "    # Initilize probability distribution for the starting state p0.\n",
    "    p0 = np.zeros(n)\n",
    "    p0[0] = 1\n",
    "    # Initilize needed variables.\n",
    "    finalStateProb = 0\n",
    "    kSteps = 0\n",
    "    numberOfRow, numberOfColm = tm.shape\n",
    "    \n",
    "    while finalStateProb < 0.5:\n",
    "        kSteps = kSteps + 1\n",
    "        pk = propagate(p0,kSteps,tm)\n",
    "        finalStateProb = pk[numberOfRow - 1]\n",
    "        #print(finalStateProb)\n",
    "        \n",
    "    return kSteps"
   ]
  },
  {
   "cell_type": "code",
   "execution_count": 9,
   "metadata": {},
   "outputs": [
    {
     "data": {
      "text/plain": [
       "50"
      ]
     },
     "execution_count": 9,
     "metadata": {},
     "output_type": "execute_result"
    }
   ],
   "source": [
    "num_steps(10)"
   ]
  },
  {
   "cell_type": "markdown",
   "metadata": {},
   "source": [
    "### Part c\n",
    "Compute and plot the number of steps required for $n$ ranging from 10 to 40.\n",
    "\n",
    "Lookup the plotting function `plt.semilogy`and understand what it does, plot another graph of the number of steps using it.\n",
    "\n",
    "What does the semilogy plot tell you?\n",
    "\n",
    "Save the plots as \"qsn3c.png\" and \"qsn3c_semilogy.png\"\n",
    "\n",
    "**Hint:** if your code takes a long time to run, your implementation of `num_steps` may need to be improved. If you  know the distribution after $j$ steps of the markov chain, is there a way to use it to compute the distribution after $j+1$ steps?"
   ]
  },
  {
   "cell_type": "code",
   "execution_count": 10,
   "metadata": {},
   "outputs": [
    {
     "data": {
      "image/png": "[encoded data removed]",
      "text/plain": [
       "<Figure size 432x288 with 1 Axes>"
      ]
     },
     "metadata": {
      "needs_background": "light"
     },
     "output_type": "display_data"
    }
   ],
   "source": [
    "#YOUR CODE HERE\n",
    "import matplotlib.pyplot as plt\n",
    "n_range = np.array([i for i in range(10,41)])\n",
    "\n",
    "plt.grid(True, which=\"both\")\n",
    "\n",
    "plt.semilogy(n_range, np.array([num_steps(n) for n in range(10,41)]))\n",
    "\n",
    "plt.show()"
   ]
  },
  {
   "cell_type": "markdown",
   "metadata": {},
   "source": [
    "## Question 4\n",
    "\n",
    "### Part a\n",
    "Now we want to also compute some samples from the markov chain. What does this mean? Given a starting state, the Markov chain says that we move to various different states with some probabilities. We want to use randomness to choose what this next state is. Each call to the function will return a different answer, a new sample.\n",
    "\n",
    "For example consider the markov chain we have been using. It computes the next state by either adding 1 (with probability 0.6), subtracting 1 (probability 0.3), or going back to state 0 (probability 0.1) until it reaches the final state. Once it reaches the final state it stays there forever. If we were starting from state `4` of our Markov chain (for example), then we want to return `5` with probability 0.6, `3` with probability 0.3, and `0` with probability 0.1. \n",
    "\n",
    "Write a function `sample` which takes in a transition matrix `tm` and an initial state `s0` and samples a state to move to starting from `s0`. "
   ]
  },
  {
   "cell_type": "code",
   "execution_count": 11,
   "metadata": {},
   "outputs": [],
   "source": [
    "import numpy.random as rnd"
   ]
  },
  {
   "cell_type": "code",
   "execution_count": 12,
   "metadata": {},
   "outputs": [],
   "source": [
    "#YOUR CODE HERE\n",
    "def sample(tm, s0):\n",
    "    numOfRows, numOfColms = tm.shape\n",
    "    states = np.array([i for i in range(numOfRows)])\n",
    "    p = np.zeros(numOfRows); p[s0] = 1\n",
    "    s1 = np.dot(tm,p)\n",
    "    nextState = rnd.choice(states, p=s1)\n",
    "    return nextState"
   ]
  },
  {
   "cell_type": "code",
   "execution_count": 13,
   "metadata": {},
   "outputs": [
    {
     "data": {
      "text/plain": [
       "0"
      ]
     },
     "execution_count": 13,
     "metadata": {},
     "output_type": "execute_result"
    }
   ],
   "source": [
    "sample(tm,3)"
   ]
  },
  {
   "cell_type": "markdown",
   "metadata": {},
   "source": [
    "Your implementation should **not** hard-code the probability values from the specific Markov chain we have been working with so far."
   ]
  },
  {
   "cell_type": "markdown",
   "metadata": {},
   "source": [
    "### part b\n",
    "\n",
    "With this implementation of `sample`, write a function `sample_k_steps` which runs a random walk in the chain for `k` steps from an initial state `s0`. The random walk works in the following way: we start from `s0` and sample a new state to move to. We then set that new state to be `s0` and sample a new state to move to from there, repeating this until we have stepped `k` times.\n",
    "\n",
    "As an example, in the chain we have been working with so far we can only add 1, subtract 1, or go to 0 each time we step until we reach state `n-1`. When we are in state `n-1` we stay there forever. Thus a potential sample of 25 steps in the `n=10` chain is\n",
    "```\n",
    "array([0,1,2,1,2,3,0,0,1,2,3,4,5,4,3,4,5,6,7,8,9,9,9,9,9,9])\n",
    "```\n",
    "Note that each element of this array is equal to 0, equal to n-1, or is 1 greater or 1 less than the previous one. Further once we have an `n-1` value in our array we have that value for all future elements. \n",
    "\n",
    "Write a function `sample_k_steps` which takes in transition matrix `tm`, number of steps `k`, and  starting state `s0` and returns an array of `k+1` states sampled from the chain.\n",
    "\n",
    "Hint: You can use `sample` from 4a for this"
   ]
  },
  {
   "cell_type": "code",
   "execution_count": 14,
   "metadata": {},
   "outputs": [],
   "source": [
    "#YOUR CODE HERE\n",
    "def sample_k_steps(tm,k,s0):\n",
    "    result = np.zeros(k)\n",
    "    index = 0\n",
    "    while k > 0:\n",
    "        result[index] = s0\n",
    "        s0 = sample(tm,s0)\n",
    "        k = k - 1; index = index + 1\n",
    "    return result"
   ]
  },
  {
   "cell_type": "code",
   "execution_count": 15,
   "metadata": {},
   "outputs": [
    {
     "data": {
      "text/plain": [
       "array([0., 1., 2., 1., 2., 1., 2., 3., 4., 5., 6., 5., 4., 5., 6., 5., 6.,\n",
       "       7., 6., 5., 6., 7., 6., 7., 8., 9., 9., 9., 9., 9., 9., 9., 9., 9.,\n",
       "       9., 9., 9., 9., 9., 9., 9., 9., 9., 9., 9., 9., 9., 9., 9., 9., 9.,\n",
       "       9., 9., 9., 9., 9., 9., 9., 9., 9., 9., 9., 9., 9., 9., 9., 9., 9.,\n",
       "       9., 9., 9., 9., 9., 9., 9., 9., 9., 9., 9., 9., 9., 9., 9., 9., 9.,\n",
       "       9., 9., 9., 9., 9., 9., 9., 9., 9., 9., 9., 9., 9., 9., 9., 9., 9.,\n",
       "       9., 9., 9., 9., 9., 9., 9., 9., 9., 9., 9., 9., 9., 9., 9., 9., 9.,\n",
       "       9., 9., 9., 9., 9., 9., 9., 9., 9., 9., 9., 9., 9., 9., 9., 9., 9.,\n",
       "       9., 9., 9., 9., 9., 9., 9., 9., 9., 9., 9., 9., 9., 9., 9., 9., 9.,\n",
       "       9., 9., 9., 9., 9., 9., 9., 9., 9., 9., 9., 9., 9., 9., 9., 9., 9.,\n",
       "       9., 9., 9., 9., 9., 9., 9., 9., 9., 9., 9., 9., 9., 9., 9., 9., 9.,\n",
       "       9., 9., 9., 9., 9., 9., 9., 9., 9., 9., 9., 9., 9.])"
      ]
     },
     "execution_count": 15,
     "metadata": {},
     "output_type": "execute_result"
    }
   ],
   "source": [
    "sample_k_steps(tm,200,0)"
   ]
  },
  {
   "cell_type": "markdown",
   "metadata": {},
   "source": [
    "Use the below code to test out some of the samples, it samples 20 trajectories of the markov chain and plots them. The plot should show that almost all or all the trajectories would ahve reached the final state by the end. Save this graph as \"qsn4b.png\"."
   ]
  },
  {
   "cell_type": "code",
   "execution_count": 16,
   "metadata": {},
   "outputs": [
    {
     "data": {
      "image/png": "[encoded data removed]",
      "text/plain": [
       "<Figure size 432x288 with 1 Axes>"
      ]
     },
     "metadata": {
      "needs_background": "light"
     },
     "output_type": "display_data"
    }
   ],
   "source": [
    "#TESTING\n",
    "tm = transition_matrix(10)\n",
    "k = 200\n",
    "s0 = 0\n",
    "\n",
    "for i in range(20):\n",
    "    states = sample_k_steps(tm, k, s0)\n",
    "    plt.plot(states)\n",
    "\n",
    "plt.savefig(\"qsn4b.png\")"
   ]
  },
  {
   "cell_type": "markdown",
   "metadata": {},
   "source": [
    "## Question 5\n",
    "\n",
    "We will now use our implementation of `sample` to estimate *hitting times* in a Markov chain. The hitting time between states `i` and `j` is the average number of steps that a random walk starting from state `i` takes to hit state `j`. We will be creating a [Monte Carlo simulation](https://en.wikipedia.org/wiki/Monte_Carlo_method) to estimate this value: if we run many random walks starting from `i` and count the number of steps it takes them to reach `j`, the average number of steps we observe is (hopefully) a good approximation to the true hitting time.\n",
    "\n",
    "Write a function `hitting_time_1_walk` which takes in as arguments a transition matrix `tm`, a starting point `i`, and an ending point `j`. Your function should run a random walk starting from `i` until it hits `j`, and return the number of steps that your walk takes to hit `j`.\n"
   ]
  },
  {
   "cell_type": "code",
   "execution_count": 17,
   "metadata": {},
   "outputs": [],
   "source": [
    "#YOUR CODE HERE\n",
    "def hitting_time_1_walk(tm,i,j):\n",
    "    k = 0;\n",
    "    currentState = i\n",
    "    while currentState != j:\n",
    "        currentState = sample(tm,currentState)\n",
    "        k = k + 1\n",
    "    return k"
   ]
  },
  {
   "cell_type": "markdown",
   "metadata": {},
   "source": [
    "Note that when applied to our markov chain from before, `hitting_time_1_walk(tm,0,n-1)` runs a random walk starting from `0` until it hits the end state `n-1`. Consequently, we expect that `hitting_time_1_walk(tm,0,n-1)` will be at most some value `k` with probability equal to `propagate(tm,0,k)[n-1]` (take some time to convince yourself of this if you are not sure of this).\n",
    "\n",
    "1. **Create a new transition matrix `tm` for n = 20**, and create an array of 1000 calls to `hitting_time_1_walk(tm,0,n-1)`. \n",
    "\n",
    "2. Write a function `proportion_at_most` which takes in as arguments an array `arr` and a value `max_value`. It should return an array with `max_value` entries, where the `i`'th entry of the output array is the proportion of the values from `arr` which are at most `i`. For example, `proportion_at_most(arr=[1,2,4,2,6], max_value = 7)` should return `[0,0.2,0.6,0.6,0.8,0.8,1,1]` (or the numpy array equivalent to this)\n",
    "\n",
    "\n",
    "3. Apply this function to the hitting time samples you computed, with `max_value = 2000`.\n",
    "\n",
    "4. Compute the theoretical probability of being in state `n-1` after `k` steps using `propagate`, for every value of `k` between `0` and `2000`. \n",
    "\n",
    "5. Plot the estimated probabilities from 2) and the true probabilities from 3) against each other. Do they agree?\n",
    "\n",
    "\n",
    "Save your plot as `qsn5.png`."
   ]
  },
  {
   "cell_type": "code",
   "execution_count": 18,
   "metadata": {},
   "outputs": [],
   "source": [
    "#YOUR CODE HERE\n",
    "n = 20\n",
    "tm2 = transition_matrix(n)\n",
    "hitting = np.array([hitting_time_1_walk(tm2, 0, n-1) for i in range(1000)])"
   ]
  },
  {
   "cell_type": "code",
   "execution_count": 19,
   "metadata": {},
   "outputs": [],
   "source": [
    "def proportion_at_most(arr, max_value):\n",
    "    arr = np.array(arr)\n",
    "    proportion = np.zeros(max_value)\n",
    "    for i in range(max_value):\n",
    "        num_smaller_elem = (arr <= i).sum()\n",
    "        proportion[i] = num_smaller_elem / arr.size\n",
    "        \n",
    "    return proportion.tolist()"
   ]
  },
  {
   "cell_type": "code",
   "execution_count": 20,
   "metadata": {},
   "outputs": [
    {
     "data": {
      "text/plain": [
       "[0.0, 0.2, 0.6, 0.6, 0.8, 0.8, 1.0]"
      ]
     },
     "execution_count": 20,
     "metadata": {},
     "output_type": "execute_result"
    }
   ],
   "source": [
    "proportion_at_most(arr=[1,2,4,2,6], max_value = 7)"
   ]
  },
  {
   "cell_type": "code",
   "execution_count": 21,
   "metadata": {},
   "outputs": [],
   "source": [
    "proportion_hitting = proportion_at_most(arr = hitting.tolist(), max_value = 2000)"
   ]
  },
  {
   "cell_type": "code",
   "execution_count": 22,
   "metadata": {},
   "outputs": [],
   "source": [
    "p0 = np.zeros(n)\n",
    "p0[0] = 1\n",
    "final_state_prob = np.array([propagate(p0,k,tm2)[n-1] for k in range(0,2000)])"
   ]
  },
  {
   "cell_type": "code",
   "execution_count": 23,
   "metadata": {},
   "outputs": [
    {
     "data": {
      "text/plain": [
       "(2000,)"
      ]
     },
     "execution_count": 23,
     "metadata": {},
     "output_type": "execute_result"
    }
   ],
   "source": [
    "final_state_prob.shape"
   ]
  },
  {
   "cell_type": "code",
   "execution_count": 24,
   "metadata": {},
   "outputs": [
    {
     "data": {
      "image/png": "[encoded data removed]",
      "text/plain": [
       "<Figure size 432x288 with 1 Axes>"
      ]
     },
     "metadata": {
      "needs_background": "light"
     },
     "output_type": "display_data"
    }
   ],
   "source": [
    "import matplotlib.pyplot as plt\n",
    "plt.semilogy(final_state_prob, proportion_hitting)\n",
    "plt.xlabel('final state probability')\n",
    "plt.ylabel('hitting')\n",
    "plt.show()"
   ]
  },
  {
   "cell_type": "markdown",
   "metadata": {},
   "source": [
    "## Question 6\n",
    "We will now move away from Markov chains and look towards another use of linear algebra and graphs: clustering algorithms. More specifically, in this exercise we will implement a simple spectral clustering algorithm: we will demonstrate this this algorithm works on a classic synthetic dataset: the 'nested moons' dataset. We will first generate this dataset and identify the ground truth clustering we seek to find. "
   ]
  },
  {
   "cell_type": "code",
   "execution_count": 25,
   "metadata": {},
   "outputs": [
    {
     "data": {
      "text/plain": [
       "<matplotlib.legend.Legend at 0x1d7c11d1eb0>"
      ]
     },
     "execution_count": 25,
     "metadata": {},
     "output_type": "execute_result"
    },
    {
     "data": {
      "image/png": "[encoded data removed]",
      "text/plain": [
       "<Figure size 432x288 with 1 Axes>"
      ]
     },
     "metadata": {
      "needs_background": "light"
     },
     "output_type": "display_data"
    }
   ],
   "source": [
    "import sklearn.datasets\n",
    "\n",
    "n = 1000\n",
    "X,y = sklearn.datasets.make_moons(n,noise=0.05, random_state = 0)\n",
    "\n",
    "plt.scatter(X[y==0, 0], X[y==0, 1],label=\"True Cluster 1\")\n",
    "plt.scatter(X[y==1, 0], X[y==1, 1],label=\"True Cluster 2\")\n",
    "    \n",
    "    \n",
    "plt.legend()"
   ]
  },
  {
   "cell_type": "markdown",
   "metadata": {},
   "source": [
    "This dataset consists of $n=1000$ data points in 2-dimensional space. While it seems obvious to our eyes that a good partition of the data exists, many off-the-shelf clustering algorithms fail to fully identify the clusters on this dataset. As an example, here is how the standard K-means clustering algorithm fares on this dataset (we will see more examples of clustering in Lecture 7 when we cover Scikit-learn)."
   ]
  },
  {
   "cell_type": "code",
   "execution_count": 26,
   "metadata": {},
   "outputs": [
    {
     "data": {
      "text/plain": [
       "<matplotlib.legend.Legend at 0x1d7c1b7d910>"
      ]
     },
     "execution_count": 26,
     "metadata": {},
     "output_type": "execute_result"
    },
    {
     "data": {
      "image/png": "[encoded data removed]",
      "text/plain": [
       "<Figure size 432x288 with 1 Axes>"
      ]
     },
     "metadata": {
      "needs_background": "light"
     },
     "output_type": "display_data"
    }
   ],
   "source": [
    "from sklearn.cluster import KMeans\n",
    "\n",
    "model = KMeans(n_clusters=2, random_state=0)\n",
    "kmeans_labels = model.fit(X).labels_\n",
    "\n",
    "plt.scatter(X[kmeans_labels==0, 0], X[kmeans_labels==0, 1],label=\"K-Means Cluster 1\")\n",
    "plt.scatter(X[kmeans_labels==1, 0], X[kmeans_labels==1, 1],label=\"K-Means Cluster 2\")\n",
    "    \n",
    "    \n",
    "plt.legend()"
   ]
  },
  {
   "cell_type": "markdown",
   "metadata": {},
   "source": [
    "### part (a)\n",
    "$\\newcommand{\\norm}[1]{\\left\\lVert#1\\right\\rVert}$\n",
    "In this exercise, we will implement a basic spectral clustering algorithm which will correctly identify the clusters on this dataset. To begin, we will need to form an \"affinity matrix\": the $(i,j)$ entry of this matrix indicates how close together the $i^{th}$ and $j^{th}$ data points are in space. \n",
    "\n",
    "Let $x_i$ denote the $i^{th}$ point in the data set. Form an $n \\times n$ matrix $A$ where $A_{ij} = e^{-10 \\norm{x_i - x_j}}$ (this constant of $10$ is chosen because it gives good results for this task: it may be tuned in practice). (Here, $\\norm{x_i - x_j}$ is the vector $2$-norm of the difference between $x_i$ and $x_j$.) If you did this correctly, the minimum value in $A$ should be `1.679177168057234e-14`.\n"
   ]
  },
  {
   "cell_type": "code",
   "execution_count": 27,
   "metadata": {},
   "outputs": [],
   "source": [
    "#YOUR CODE HERE\n",
    "import math\n",
    "import matplotlib.pyplot as plt\n",
    "def create_data_set(n):\n",
    "    A = np.zeros((n,n))\n",
    "    for i in range(n):\n",
    "        for j in range(n):\n",
    "            A[i][j] = np.exp((-10) * math.dist(dataset[0][i],dataset[0][j]))\n",
    "    return A"
   ]
  },
  {
   "cell_type": "code",
   "execution_count": 28,
   "metadata": {},
   "outputs": [],
   "source": [
    "dataset = sklearn.datasets.make_moons(n,noise=0.05, random_state = 0)"
   ]
  },
  {
   "cell_type": "code",
   "execution_count": 29,
   "metadata": {},
   "outputs": [],
   "source": [
    "A = create_data_set(1000)"
   ]
  },
  {
   "cell_type": "code",
   "execution_count": 43,
   "metadata": {},
   "outputs": [
    {
     "data": {
      "text/plain": [
       "1.679177168057234e-14"
      ]
     },
     "execution_count": 43,
     "metadata": {},
     "output_type": "execute_result"
    }
   ],
   "source": [
    "np.amin(A)"
   ]
  },
  {
   "cell_type": "markdown",
   "metadata": {},
   "source": [
    "With this, we generate a [Laplacian matrix](https://www.cs.yale.edu/homes/spielman/561/2012/lect02-12.pdf). We do this in two steps: we first construct a diagonal matrix $D$ which contains the row sums of $A$ on its diagonal, and then we create the Laplacian $L = D- A$.  "
   ]
  },
  {
   "cell_type": "code",
   "execution_count": 31,
   "metadata": {},
   "outputs": [],
   "source": [
    "D =  np.diag(A.sum(axis=0))\n",
    "L = D-A"
   ]
  },
  {
   "cell_type": "markdown",
   "metadata": {},
   "source": [
    "The algorithmic task behind spectral clustering algorithms is to find the eigenvector associated with *second smallest* eigenvalue of the matrix $L$. (All eigenvalues of $L$ are positive, and it is a simple exercise to show that the all-ones vector is an eigenvector of $L$ with eigenvalue $0.$) As we will later see, the entries of this vector will enable us to identify the partition in our original dataset. We will build up to this functionality in stages. \n",
    "\n",
    "We begin by writing a linear system solver for the matrix $L$. We will use an adaptation of [Richardson iteration](https://en.wikipedia.org/wiki/Modified_Richardson_iteration) to do this task: the pseudocode for this is given below. \n",
    "\n",
    "```\n",
    "    input) L: an n x n Laplacian matrix, b: an n x 1 vector with entries summing to 0, T: number of iterations\n",
    "    outputs) x: n x 1 vector approximately satisfying Lx =b.\n",
    "\n",
    "    x <- all-zeros vector\n",
    "    steplength = 0.03\n",
    "    for i = 0,1,2,...,T-1:\n",
    "        residual <- b - L*x\n",
    "        x <- x + steplength*residual\n",
    "```\n",
    "\n",
    "Write a function `richardson(L,b,T=500)` which implements the algorithm given above. (Note that the `steplength` parameter of $0.03$ may be optimized slightly, but this value gives good performance for solving linear systems in the Laplacian defined earlier.)"
   ]
  },
  {
   "cell_type": "code",
   "execution_count": 32,
   "metadata": {},
   "outputs": [],
   "source": [
    "#YOUR CODE HERE\n",
    "def richardson(L,b,T=500): #in our later code, we will run for T = 500 iterations\n",
    "    numOfRow, numOfColm = L.shape\n",
    "    x = np.zeros(numOfRow)\n",
    "    steplength = 0.03\n",
    "    for i in range(T):\n",
    "        residual = b - np.dot(L,x)\n",
    "        x = x + steplength * residual\n",
    "    return x"
   ]
  },
  {
   "cell_type": "markdown",
   "metadata": {},
   "source": [
    "### part (b)\n",
    "\n",
    "While the Richardson iteration above works well on small problems, it converges slowly on larger instances. This is especially true for our Laplacian linear system: the norm of our residual error may remain higher than $10^{-4}$ even after 1000 iterations. To address this issue, we will implement a version of [Nesterov acceleration](https://calculus.subwiki.org/wiki/Nesterov%27s_gradient_acceleration) to improve the convergence of this procedure. The pseudocode for this algorithm is given below: \n",
    "\n",
    "\n",
    "```\n",
    "    input) L: an n x n Laplacian matrix, b: an n x 1 vector with entries summing to 0, tol: error tolerance\n",
    "    outputs) x_T: n x 1 vector approximately satisfying Lx =b.\n",
    "\n",
    "    x_0, y_0 <- all-zeros vector\n",
    "    steplength = 0.03\n",
    "    alpha = 0.9\n",
    "    for i = 0, 1, ... T-1:\n",
    "        x_{i+1} <- y_i + steplength*(b - L*y_i)\n",
    "        y_{i+1} = x_{i+1} + alpha*(x_{i+1} - x_i)\n",
    "        i = i + 1\n",
    "```\n",
    "\n",
    "\n",
    "Here the index $i$ denotes the index of iteration: $y_1$ is a different $n$-dimensional vector to $y_0$ (and likewise with $x$). It does not indicate It may be helpful to un-roll the for loop to see the vectors it defines: if $\\eta$ is the steplength, we see\n",
    "\n",
    "\\begin{align*}\n",
    "x_1 = y_0 + \\eta(b- L y_0) \\\\\n",
    "y_1 = x_1 + \\alpha (x_1 - x_0) \\\\\n",
    "x_2 = y_1 + \\eta (b- L y_1) \\\\\n",
    "y_2 = x_2 + \\alpha (x_2 - x_1) \\\\\n",
    "x_3 = y_2 + \\eta (b- L y_2) \\\\\n",
    "y_3 = x_3 + \\alpha (x_3 - x_2)\n",
    "\\end{align*}\n",
    "\n",
    "and so on. We see that the vector $x_1$ defined on the first line is used to define both $y_1$ on the second line and $y_2$ on the fourth line. You should think of the algorithm as constructing two sequences of vectors $x_i$ and $y_i$: each $x$ vector is a function of the previous $y$ vector, but each $y$ vector is a function of the previous **two** $x$ vectors. You may find it helpful to store two different $x$ vectors (called $x_{current}$ and $x_{old}$ for example) to implement the algorithm.\n",
    "\n",
    "(For those interested in the justification of this procedure, solving the linear equations $Lx = b$ is equivalent to finding the minimizing $x$ for the quadratic $\\frac{1}{2} x^\\top L x - b^\\top x$. In the pseudocode, we apply the Nesterov accelerated gradient method to this problem. The constants of `alpha` and `steplength` can again be slightly improved, but these give good performance for our Laplacian)\n",
    "\n",
    "Write a function `agd(L,b,T=500)` to implement the above pseudocode. "
   ]
  },
  {
   "cell_type": "code",
   "execution_count": 33,
   "metadata": {},
   "outputs": [],
   "source": [
    "#YOUR CODE HERE\n",
    "def agd(L,b,T=500):\n",
    "    numOfRow, numOfColm = L.shape\n",
    "    globals()[f\"x{0}\"] = np.zeros(numOfRow)\n",
    "    globals()[f\"y{0}\"] = np.zeros(numOfRow)\n",
    "    steplength = 0.03\n",
    "    alpha = 0.9\n",
    "    for i in range(T):\n",
    "        globals()[f\"x{i+1}\"] = globals()[f\"y{i}\"] + steplength * (b - np.dot(L, globals()[f\"y{i}\"]))\n",
    "        globals()[f\"y{i+1}\"] = globals()[f\"x{i+1}\"] + alpha * (globals()[f\"x{i+1}\"] - globals()[f\"x{i}\"])\n",
    "        i = i + 1\n",
    "\n",
    "    return globals()[f\"x{T}\"]"
   ]
  },
  {
   "cell_type": "code",
   "execution_count": 34,
   "metadata": {},
   "outputs": [],
   "source": [
    "#TESTING-- try using Richardson and AGD to solve the linear system Lx = v\n",
    "np.random.seed(0)\n",
    "v = np.random.rand(n)\n",
    "v -= np.sum(v)/n # Normalize\n"
   ]
  },
  {
   "cell_type": "code",
   "execution_count": 35,
   "metadata": {},
   "outputs": [
    {
     "data": {
      "text/plain": [
       "array([ 2.15524410e-02,  1.00128781e-02,  3.58304429e-02, -4.35871291e-02,\n",
       "       -6.16126284e-02,  2.59651783e-02,  5.47452490e-02,  7.59970749e-02,\n",
       "        2.77882988e-02, -5.69425865e-02, -1.22237894e-02, -4.50156561e-02,\n",
       "       -2.28003116e-02,  7.70094925e-02, -7.00317439e-02,  4.37436763e-02,\n",
       "       -9.49297799e-05,  7.17593536e-02,  6.35452879e-02,  7.76715989e-02,\n",
       "        7.77656194e-02, -1.80026910e-02,  7.54239169e-03,  3.33025380e-02,\n",
       "       -6.49150581e-03, -1.93387814e-02,  3.89484537e-02,  8.35845460e-02,\n",
       "       -3.48483284e-02,  2.75509092e-02, -2.71859939e-02, -3.65018672e-02,\n",
       "       -5.93369536e-02, -2.45653098e-02, -4.92369180e-02, -3.93054780e-02,\n",
       "        2.68979161e-02, -1.23802410e-02,  4.04123774e-02,  5.84846434e-02,\n",
       "        5.78521623e-02,  1.13312500e-02, -5.20935815e-02, -7.13242572e-02,\n",
       "        6.08631069e-02, -1.89295258e-02, -3.51792272e-02,  4.45536801e-02,\n",
       "        1.07128830e-02, -6.22686600e-02,  1.50731438e-02,  2.80105587e-02,\n",
       "        6.85283913e-02, -5.11030149e-02, -1.57654978e-02, -6.86195445e-02,\n",
       "        5.79411761e-02,  4.04559017e-02,  1.67615717e-02,  5.60616306e-03,\n",
       "       -6.33938744e-02, -7.89003385e-02,  6.54024980e-02,  4.84461028e-02,\n",
       "       -4.50716363e-02,  5.78809321e-02,  6.11641721e-02, -5.99365590e-02,\n",
       "        6.80607283e-02, -6.93389974e-02, -2.01191014e-02,  2.81630444e-02,\n",
       "       -1.74748235e-02,  6.17603008e-02,  3.33251309e-02, -6.21934388e-02,\n",
       "       -3.49847771e-02, -3.85410914e-02, -6.43428984e-02, -7.92055680e-02,\n",
       "        4.87828666e-02, -3.62024985e-02, -3.66726391e-02,  2.92321637e-02,\n",
       "        1.99893460e-02, -6.23357164e-02,  6.48711861e-02, -5.54510734e-02,\n",
       "       -2.44490208e-02,  2.46703607e-02, -4.18733677e-02, -2.17435431e-02,\n",
       "        9.33774314e-03,  5.10943292e-02, -6.87973039e-02, -4.58386851e-02,\n",
       "       -5.11620471e-02,  4.58845895e-02,  3.11528152e-03, -7.91579385e-02,\n",
       "       -1.95430734e-02, -1.16942185e-02,  7.40405848e-02,  3.88512969e-02,\n",
       "        3.10676339e-03, -5.60105371e-02, -5.41012229e-02, -2.27400157e-02,\n",
       "        1.26516370e-02,  8.56669458e-02,  6.15047894e-02, -4.35002720e-02,\n",
       "       -2.33655594e-02, -4.72838090e-02,  6.97919099e-02, -2.93154042e-02,\n",
       "       -2.75035634e-02, -1.98346579e-02, -8.79980491e-03, -2.27247415e-02,\n",
       "       -1.80044673e-02,  8.73367232e-03,  7.88912813e-02,  3.07513014e-02,\n",
       "        5.47425978e-02, -7.76725010e-03, -2.49823556e-02,  3.29292985e-02,\n",
       "        3.10378069e-02, -6.54812275e-02, -2.36160864e-02, -6.24847628e-02,\n",
       "       -6.84979215e-02, -5.37060912e-02, -3.59667315e-02, -5.46941385e-02,\n",
       "        2.39335063e-02,  3.16906753e-02, -3.42374433e-02,  4.84037201e-03,\n",
       "        7.77349934e-02, -6.37889956e-02, -4.27604797e-02,  7.15787833e-02,\n",
       "        4.98135358e-02, -2.77034035e-02, -3.88744320e-02, -1.55418368e-02,\n",
       "        6.78210741e-02,  7.89228943e-02,  4.09183821e-02,  7.29603417e-02,\n",
       "       -4.33515815e-02, -2.75214300e-02,  7.38259072e-03,  3.92348082e-02,\n",
       "       -2.10177685e-02, -1.05689023e-02, -7.80674139e-03, -5.09213452e-02,\n",
       "       -4.54513034e-02,  1.76214488e-02, -4.80022822e-02,  1.31955369e-02,\n",
       "        4.94132879e-02, -5.22722148e-03, -8.90669054e-03,  1.89233616e-02,\n",
       "       -4.32317063e-03, -5.04280263e-02,  2.65401849e-02, -4.51865960e-02,\n",
       "        4.54627671e-02, -4.11673899e-02, -1.75458874e-02, -5.14612178e-02,\n",
       "        4.74432737e-02, -4.31606523e-02,  1.26484992e-02,  4.09325851e-02,\n",
       "       -4.58275682e-02,  2.99998456e-02, -2.81751770e-02,  1.24861201e-02,\n",
       "        4.01117158e-02,  2.62667453e-02, -4.57670903e-02, -2.90956811e-02,\n",
       "       -2.13844299e-02,  5.44229349e-02, -1.71462410e-02, -2.80380845e-02,\n",
       "       -4.88713330e-02,  6.31539910e-02, -2.19812163e-02, -5.77332099e-02,\n",
       "       -5.41410678e-02,  5.26051171e-02, -7.71403188e-02,  5.44158823e-02,\n",
       "       -6.20219643e-02, -2.40898358e-02,  1.92062452e-03,  1.72597497e-03,\n",
       "       -3.99801110e-02, -7.57719745e-02, -1.76318991e-02, -4.02950516e-02,\n",
       "       -3.53112837e-02,  4.00915634e-02,  8.09552581e-02, -7.08461404e-02,\n",
       "        6.13617026e-02,  9.33450292e-03, -5.35912518e-03,  3.78951297e-02,\n",
       "        5.00087807e-02,  5.15918224e-02,  5.71958839e-02, -4.27417222e-02,\n",
       "       -1.96654083e-02, -4.19134932e-02,  1.40244105e-02,  6.25302943e-02,\n",
       "       -4.19521477e-02,  4.59275310e-02, -5.10019303e-02, -5.24335340e-02,\n",
       "        6.95598289e-02, -1.96969158e-02, -5.16943816e-02,  1.66601874e-02,\n",
       "       -5.77391837e-02, -4.76959269e-02,  4.36858790e-02,  5.85573221e-02,\n",
       "       -6.04712971e-02,  5.87071391e-02, -4.85087413e-02,  6.43495054e-02,\n",
       "       -2.19754107e-02, -4.91967301e-02,  6.44049677e-02, -3.13936987e-02,\n",
       "        3.09390781e-02, -3.66776807e-02, -1.23569410e-02,  1.12161559e-02,\n",
       "       -5.57985434e-02, -5.61455672e-02,  5.32326680e-02, -4.31037388e-02,\n",
       "        7.28474761e-02,  3.18914015e-02,  7.97718025e-02, -5.43524462e-02,\n",
       "       -5.78836060e-02, -2.92291142e-02,  4.69647676e-02,  4.40433782e-02,\n",
       "        1.49760674e-02, -5.77781005e-02, -5.47502299e-02,  8.12793882e-02,\n",
       "       -1.49962651e-02, -4.71469695e-02, -4.63248840e-02, -2.44351125e-02,\n",
       "       -3.82891956e-02, -3.15450189e-02, -2.79695105e-02, -3.24656390e-02,\n",
       "        5.41788218e-02,  7.72061764e-02, -4.68718100e-02,  9.68235510e-03,\n",
       "        8.42945264e-03, -2.42283511e-02, -2.78949692e-02,  7.41793098e-02,\n",
       "        1.30721171e-02,  2.38332136e-02, -3.60900255e-03, -2.85130311e-02,\n",
       "       -3.60546435e-02,  4.49486577e-02,  1.11146477e-02, -1.96721119e-03,\n",
       "        5.75682114e-02,  6.94057360e-02, -6.57437803e-02,  5.04642578e-02,\n",
       "       -2.84235381e-02,  2.27734342e-03, -5.28619306e-02,  4.87653505e-02,\n",
       "       -8.71091822e-03,  3.50472863e-02, -8.07290667e-03,  6.31415210e-02,\n",
       "        8.00309657e-02,  7.39149217e-02, -3.91920451e-02, -4.55845006e-02,\n",
       "       -3.90771707e-02,  4.15201816e-02, -3.76294279e-02, -7.19069265e-03,\n",
       "        2.33214017e-02, -4.85771981e-02,  3.54914837e-02,  8.41958273e-03,\n",
       "       -5.74875016e-02,  3.59873932e-02,  2.03035095e-02, -2.87108529e-02,\n",
       "       -3.79771794e-02,  5.01996897e-02,  7.52668325e-02,  6.96305915e-02,\n",
       "        5.09480327e-02, -5.37712544e-02,  8.71358444e-03,  5.59517129e-02,\n",
       "        2.90615755e-02,  6.10289819e-02,  6.74565935e-02, -1.39994942e-02,\n",
       "        4.22898698e-02, -3.03726728e-02, -1.71919323e-02, -2.36339855e-02,\n",
       "        4.33235870e-02, -1.78011196e-02,  6.98716227e-02, -2.13388017e-02,\n",
       "        5.28549338e-02, -6.63603382e-02, -3.06452375e-02, -5.70837608e-02,\n",
       "        1.91989999e-02, -4.49626767e-02,  6.06692219e-02, -6.34518968e-03,\n",
       "        7.07888732e-02, -6.60181559e-03,  6.39451921e-02,  4.74082145e-02,\n",
       "        6.49846249e-02, -2.91317641e-02,  6.75512092e-02, -7.32421741e-02,\n",
       "       -1.89772619e-03,  2.52594171e-02, -1.08954602e-02, -1.98949309e-02,\n",
       "        3.79117514e-03,  7.29355945e-03, -2.78308899e-02,  1.68700647e-02,\n",
       "       -2.84141276e-02,  5.91096313e-02,  6.37284467e-02, -2.89972296e-02,\n",
       "        1.56978967e-02,  6.18571096e-02,  3.08938976e-02, -8.04498199e-03,\n",
       "        3.40954375e-02,  6.23826535e-02,  2.89090292e-02,  5.31658659e-02,\n",
       "        6.99400574e-02,  3.08408163e-02,  5.23337888e-02,  2.56390245e-02,\n",
       "       -3.34266524e-02, -4.11504415e-02,  1.50980303e-02,  6.63947558e-02,\n",
       "       -2.53865494e-02,  1.06291370e-03,  7.76122313e-02,  6.65641402e-03,\n",
       "       -2.91066845e-02,  3.52554086e-02, -4.00011226e-02, -4.70391438e-02,\n",
       "        5.12970861e-02, -4.92628527e-02, -5.98086625e-02,  5.27985155e-02,\n",
       "        4.93357803e-02, -3.53098039e-02,  3.20394372e-02,  8.04315335e-02,\n",
       "        5.19637376e-02, -4.15904936e-04, -4.37307872e-02, -4.48491417e-02,\n",
       "       -6.24554603e-02,  7.78180823e-02, -7.52080022e-02, -3.67118037e-03,\n",
       "       -4.52896244e-02, -5.95134448e-02,  5.48634941e-02, -4.53454799e-02,\n",
       "       -5.64416046e-02, -4.13593334e-02, -2.39974614e-02, -2.86140732e-02,\n",
       "       -6.98395530e-02, -2.87094308e-03, -3.77272220e-02,  4.77660796e-02,\n",
       "        4.25272571e-02,  4.19709940e-02,  4.57730230e-02,  6.36517961e-02,\n",
       "       -3.54973371e-02, -3.51839803e-03, -1.28795451e-02, -6.24892142e-02,\n",
       "       -2.47170809e-02, -6.04407371e-02, -1.14672983e-03,  3.71368571e-02,\n",
       "       -1.86512759e-02, -6.47634620e-02,  4.15188386e-03,  6.92534350e-02,\n",
       "        4.74776711e-02,  2.88737719e-02, -2.42856893e-02,  5.92799452e-02,\n",
       "        5.86024092e-02,  4.98321385e-02, -1.76181361e-02, -6.18801866e-02,\n",
       "       -6.14927654e-02,  7.27455067e-02,  4.20431158e-02, -5.04172550e-02,\n",
       "        5.36015545e-02, -5.35934847e-02, -4.18300062e-02,  7.93713368e-02,\n",
       "        3.61187067e-02, -4.37719013e-02, -5.97724056e-02,  2.37211630e-02,\n",
       "       -4.21939871e-02,  8.28418232e-03,  7.91457154e-02, -3.64513379e-02,\n",
       "        2.50306174e-02, -5.23421401e-02,  3.83858178e-02, -1.61581451e-02,\n",
       "        2.65295347e-03,  1.72663552e-02, -4.66935691e-02,  7.06662484e-02,\n",
       "        8.17863135e-03,  7.04967780e-03, -6.00093373e-02, -4.97479725e-02,\n",
       "       -1.91091863e-02, -5.36086484e-02, -1.45433353e-03, -3.67107986e-02,\n",
       "        6.87779347e-02,  3.98680214e-02, -2.51008235e-02, -3.34236667e-02,\n",
       "        7.05263323e-02,  5.11665442e-02,  7.79901478e-02,  6.18185745e-02,\n",
       "       -2.54393366e-02, -6.82366326e-02, -5.00169559e-02,  4.79848036e-02,\n",
       "       -3.19419783e-02, -3.89040352e-02, -3.91211196e-02,  8.02134353e-02,\n",
       "       -2.97201965e-02, -3.28904653e-02, -6.50139338e-02, -2.11352613e-02,\n",
       "        5.16758233e-02, -5.90924372e-02,  6.53684249e-02, -7.04029365e-02,\n",
       "        6.17944543e-02, -1.60368462e-02, -7.01779182e-02, -1.61371051e-02,\n",
       "       -6.67274325e-02,  5.51481388e-02, -4.33685431e-02, -2.20491036e-02,\n",
       "        5.51467250e-02, -2.73344429e-02, -8.14314555e-03, -5.90248217e-02,\n",
       "       -6.94798496e-02, -3.65674753e-02,  4.32030158e-02,  5.64810569e-02,\n",
       "        6.76986076e-02, -2.86970925e-02, -5.10450337e-02,  3.20588233e-02,\n",
       "       -4.31679247e-02, -6.47888167e-02,  6.99965690e-02, -1.28080150e-02,\n",
       "       -2.65691770e-02,  5.22887703e-02,  4.31866944e-02, -4.73388607e-02,\n",
       "       -6.40780118e-02, -2.70213462e-02, -3.14235769e-02, -9.09984390e-03,\n",
       "       -5.73488349e-02,  5.99115544e-02, -7.12558302e-02, -6.45502151e-02,\n",
       "        6.84832590e-02, -6.63405098e-06,  5.28662311e-02, -6.86554836e-02,\n",
       "       -2.74971397e-02,  6.93736516e-02,  6.84199942e-02,  7.53876726e-02,\n",
       "        9.79857179e-04,  1.62896062e-02, -5.49573329e-02, -2.10635616e-02,\n",
       "        5.63754638e-03, -5.00945616e-02,  6.08099790e-02, -4.76790290e-02,\n",
       "       -2.94298689e-02,  9.21735342e-03,  3.25870636e-02, -2.24849315e-02,\n",
       "        5.80074524e-02, -6.61295767e-03,  1.21374382e-02, -5.42650622e-02,\n",
       "       -2.72376227e-02, -5.33052103e-02,  1.82456544e-02,  8.57230994e-02,\n",
       "       -1.88519186e-02, -2.40005599e-02, -3.98655941e-02,  1.38777299e-02,\n",
       "       -3.41992613e-02,  1.14919966e-03,  2.64004988e-02, -1.65369474e-02,\n",
       "        7.28079020e-02, -1.68435547e-02, -5.37251245e-04,  3.86674443e-02,\n",
       "        4.64525004e-02, -6.54601144e-02, -2.26193435e-02,  5.62731278e-02,\n",
       "        3.90503227e-02, -2.99875811e-02, -3.26438378e-02,  8.20271130e-02,\n",
       "       -6.59960563e-04, -2.87842697e-02, -1.91968757e-02, -5.08415022e-02,\n",
       "       -1.32177912e-02, -4.50825082e-02, -7.10621725e-02, -2.55398279e-02,\n",
       "        3.83767480e-02, -3.31968450e-02, -3.45999648e-02,  1.55772364e-02,\n",
       "        2.10685706e-02,  2.10810147e-02, -2.37895843e-02,  8.84624854e-02,\n",
       "       -3.37058892e-02, -5.56323061e-02, -4.11885865e-02, -8.64258490e-03,\n",
       "       -7.24461413e-02, -6.55843991e-02, -3.04096160e-02, -9.82544341e-03,\n",
       "       -5.68359962e-02,  2.14981964e-02,  1.61190663e-02, -6.55418412e-02,\n",
       "       -6.02028328e-02, -5.53819626e-02,  5.56360038e-02,  4.39094082e-03,\n",
       "        7.77862633e-02, -3.17851635e-02,  1.04024565e-02, -3.93647871e-02,\n",
       "       -2.48521327e-02, -2.71908736e-02, -5.69428853e-02, -1.54565991e-02,\n",
       "       -5.38675933e-02, -4.30635866e-02,  1.66686665e-02,  7.54228796e-02,\n",
       "       -3.88580315e-02, -3.99668889e-02,  5.65412044e-02, -5.05206476e-03,\n",
       "       -6.09022538e-02,  1.77289052e-02, -1.64660782e-03, -4.43400803e-02,\n",
       "       -3.57069883e-02, -5.40554956e-02,  1.69060938e-02, -1.19144334e-02,\n",
       "       -6.78272229e-02, -4.48850030e-02,  1.44974299e-02, -3.12453777e-02,\n",
       "        2.83199634e-02,  6.07452332e-02,  6.46326289e-02, -4.02202255e-02,\n",
       "       -4.03930543e-02,  3.83095799e-02,  7.08008246e-02, -5.12937371e-02,\n",
       "        3.63887458e-02,  3.44524992e-03, -6.08749652e-02, -3.06944499e-02,\n",
       "       -6.45061531e-02,  6.86497726e-03,  7.58891655e-02, -5.11751464e-03,\n",
       "        1.87685453e-02, -5.99509083e-02, -4.12033418e-02,  8.19042378e-02,\n",
       "        5.79605925e-02, -4.48370573e-02, -5.67523367e-02, -6.79418586e-03,\n",
       "        5.41447140e-02,  5.99107637e-02,  5.70999416e-02, -5.70760347e-02,\n",
       "        2.92297455e-02, -3.71128935e-02, -4.72454167e-02,  1.11043272e-02,\n",
       "       -2.52949965e-02, -6.10614579e-02,  3.63294059e-02, -2.63526812e-02,\n",
       "       -2.94170775e-02,  6.48826948e-02, -5.17028738e-02,  5.97678757e-02,\n",
       "       -1.43002056e-02,  1.30905676e-02, -7.75814208e-02, -2.25326754e-02,\n",
       "       -7.80928072e-02,  2.51595372e-02, -2.54236584e-02, -3.81462370e-02,\n",
       "        3.65205719e-02, -3.81240292e-02,  2.84680612e-02, -6.35022678e-02,\n",
       "       -9.66668435e-03,  5.84575873e-02, -3.47028879e-02, -4.03274624e-02,\n",
       "       -1.99725756e-02,  4.47452767e-02,  2.43994013e-02,  7.16042085e-02,\n",
       "        3.60811934e-02,  4.90413019e-02,  4.79194888e-02, -5.55350725e-02,\n",
       "       -3.58551683e-02,  3.16493618e-03,  5.16052960e-02,  4.51789080e-02,\n",
       "       -2.14833408e-02, -1.03574867e-02, -4.85900798e-02,  8.85332403e-03,\n",
       "        2.31591426e-02, -3.15276608e-02,  4.98230521e-02,  4.76000443e-02,\n",
       "       -3.74075418e-02, -1.70410906e-02,  4.64857781e-02,  1.23198724e-02,\n",
       "        4.45760174e-02,  4.15058020e-02,  8.74203724e-04,  8.15894640e-02,\n",
       "       -6.35153554e-02,  7.56582207e-02,  7.03567520e-02,  7.48241740e-02,\n",
       "        2.10878646e-02,  5.31234789e-02,  2.54395936e-02,  5.94810243e-02,\n",
       "       -4.33846450e-02, -4.98050131e-02, -2.51281832e-02, -3.80660558e-02,\n",
       "        2.15935112e-02,  6.40032118e-02, -4.58545606e-02, -6.13038354e-02,\n",
       "       -7.13841216e-02, -2.10110250e-02, -2.52582754e-02, -3.72683835e-02,\n",
       "       -5.92128609e-03, -8.04346525e-02,  8.18607295e-02, -3.67418622e-02,\n",
       "       -4.93556751e-03, -5.83408858e-02, -6.53186314e-02, -1.99337499e-02,\n",
       "       -1.89581806e-02, -5.19255260e-02,  5.21856437e-02,  7.79294368e-02,\n",
       "       -6.35854962e-02, -3.58497575e-02, -2.88044775e-02, -1.15896230e-02,\n",
       "       -3.05510532e-02,  1.88542690e-02, -5.37240393e-02, -5.10142180e-02,\n",
       "        4.11622390e-02, -3.73184697e-02,  8.04957692e-02,  5.38376388e-02,\n",
       "        7.82432111e-02, -9.34272076e-03,  6.95631887e-02, -5.20510170e-02,\n",
       "        5.14383294e-02, -1.73636816e-02,  8.06457755e-02,  5.18216692e-02,\n",
       "        5.93111196e-02, -3.22931563e-02, -3.87385139e-02,  6.35060984e-02,\n",
       "        5.44836866e-03, -5.87411460e-02, -1.24442030e-02,  4.08103920e-02,\n",
       "       -5.74961448e-02,  3.30412904e-02, -4.09121364e-02, -2.31644949e-03,\n",
       "        5.98117627e-02, -1.75982823e-02, -3.14994521e-02,  5.26128978e-02,\n",
       "       -5.18035579e-02, -7.02602621e-02, -1.38290135e-02,  7.91209022e-02,\n",
       "       -3.77986478e-02,  2.27068084e-02,  5.31104033e-02,  5.77465524e-02,\n",
       "        3.98949283e-02, -3.11986678e-02, -5.73592422e-02, -6.38557283e-02,\n",
       "       -1.92099442e-02, -5.04673124e-02,  7.72445209e-02, -4.62329263e-02,\n",
       "        7.73946574e-02,  3.35316154e-02,  1.11669995e-02,  1.55394303e-02,\n",
       "        4.59500068e-02, -1.80207806e-02, -5.10618191e-02, -6.87456886e-02,\n",
       "        2.40802025e-02,  3.27908670e-03,  4.47097276e-02,  4.98689496e-02,\n",
       "        6.33382064e-02,  4.57334903e-02, -3.70329051e-02, -3.57413121e-02,\n",
       "       -7.11691523e-02,  5.74691068e-02,  3.13966040e-02, -4.40064727e-02,\n",
       "        3.70252839e-02, -4.71686667e-02,  6.43727208e-02, -3.30386630e-02,\n",
       "        1.11386392e-02,  2.58868982e-02,  6.04415091e-02, -2.79364792e-02,\n",
       "        4.07202159e-02,  4.12501009e-02,  4.24727274e-02,  7.17462678e-02,\n",
       "        2.32636461e-02, -4.61570876e-02,  1.00053956e-02,  6.57230439e-02,\n",
       "        6.18594565e-02, -1.61486846e-02,  6.62842328e-02,  1.49881791e-02,\n",
       "        4.90602134e-02,  5.74462011e-02, -1.38859992e-02, -2.17635946e-02,\n",
       "       -7.00562875e-02,  7.08697911e-02,  7.57855676e-02, -3.49441390e-02,\n",
       "       -6.83334317e-02,  6.25378382e-02, -5.80807637e-02, -6.01887486e-02,\n",
       "        7.92439387e-02, -7.44186686e-03,  5.52086465e-02, -5.99537714e-02,\n",
       "        5.76106171e-02,  2.17621325e-02, -5.81265757e-02, -2.44631215e-02,\n",
       "       -6.43219426e-03, -2.06385115e-02,  7.41598605e-02, -3.14372449e-02,\n",
       "       -5.03518812e-02, -6.38289754e-02, -3.30029484e-02, -1.29389116e-02,\n",
       "       -2.65369168e-02,  2.96939894e-02, -4.19818082e-02,  7.38391302e-02,\n",
       "       -4.75477742e-02,  5.52834682e-02,  6.62735010e-02,  3.60065760e-02,\n",
       "        3.65948649e-02,  5.20190388e-02, -4.40525845e-02,  4.75852993e-02,\n",
       "       -6.15569999e-02,  6.94201057e-03, -2.49943866e-02, -4.65769703e-02,\n",
       "       -2.79724193e-02,  6.52587879e-02, -5.41389371e-02,  5.91446237e-02,\n",
       "        1.09612382e-02,  6.55535803e-02, -6.03305052e-03,  5.78290473e-02,\n",
       "        3.63506114e-02,  5.24416097e-02, -4.03684361e-02, -1.59112625e-03,\n",
       "        7.65876392e-02,  7.87700071e-02, -7.53342732e-02, -6.10486359e-02,\n",
       "       -7.32411652e-02, -4.95731722e-02,  3.17002736e-02,  4.70511633e-02,\n",
       "        8.28015089e-02, -5.33221165e-02, -1.30371815e-02,  6.43242534e-02,\n",
       "       -6.56451390e-04,  3.91019234e-02,  7.11063995e-02,  2.16154000e-03,\n",
       "        5.85895069e-02,  1.05800282e-02,  2.50414090e-02, -1.60248078e-02,\n",
       "        6.05329300e-02, -4.41361892e-02, -1.52912939e-02, -9.18989445e-03,\n",
       "        5.38783399e-02, -4.80664566e-02, -1.00976555e-02, -7.94511548e-02,\n",
       "        1.18300209e-02,  4.67895421e-02,  2.44859850e-02,  3.61545435e-02,\n",
       "        5.62203174e-02, -3.60198998e-02,  4.28836635e-02,  7.21211434e-02,\n",
       "       -8.53847843e-03, -4.89636598e-02, -5.93737168e-02, -4.77656182e-02,\n",
       "        5.45074005e-02,  5.19701122e-02, -3.75778157e-02, -5.39719468e-02,\n",
       "       -3.32851150e-02, -4.28451468e-02, -6.53813884e-02,  6.56432443e-02,\n",
       "        2.28933529e-02, -4.24482649e-02,  7.50542851e-03,  5.26914872e-02,\n",
       "       -6.13699305e-02, -2.41236756e-02,  3.53672747e-02,  7.40408732e-02,\n",
       "        4.56379786e-02, -5.18866658e-03, -4.97104708e-02, -3.72975195e-02,\n",
       "       -1.50015536e-02, -5.80930660e-02, -3.25969958e-02,  7.03496236e-02,\n",
       "        3.16638837e-03, -1.74976118e-02,  6.93691701e-02, -3.22715616e-02,\n",
       "       -2.50395538e-02, -5.96290919e-02,  1.05684025e-03,  8.14225311e-03,\n",
       "        6.03347591e-02,  5.50677457e-02, -5.58619732e-02, -2.29684314e-02,\n",
       "       -3.18704808e-02,  3.49669977e-02, -1.80116584e-02, -5.51185642e-02,\n",
       "       -1.08439185e-02,  6.26515368e-02, -4.33887301e-02, -1.37000974e-02,\n",
       "       -5.14227254e-02,  5.75794104e-02, -6.66873294e-02,  1.52211028e-02,\n",
       "       -2.36797912e-02, -5.02513026e-02, -2.66429608e-02, -2.98564846e-02,\n",
       "        6.25266420e-02, -3.97706507e-02, -6.04128152e-02, -4.93818909e-02])"
      ]
     },
     "execution_count": 35,
     "metadata": {},
     "output_type": "execute_result"
    }
   ],
   "source": [
    "richardson(L,v,T=500)"
   ]
  },
  {
   "cell_type": "code",
   "execution_count": 36,
   "metadata": {},
   "outputs": [
    {
     "data": {
      "text/plain": [
       "array([ 0.01753228,  0.0065049 ,  0.03875399, -0.04454512, -0.06352789,\n",
       "        0.02198618,  0.05566541,  0.07841519,  0.03091915, -0.0591023 ,\n",
       "       -0.0082535 , -0.04600639, -0.02576072,  0.07941988, -0.07127926,\n",
       "        0.04480781, -0.00384721,  0.07370792,  0.06430261,  0.07897689,\n",
       "        0.0786931 , -0.01406159,  0.01070101,  0.03632996, -0.01005401,\n",
       "       -0.02234316,  0.03980048,  0.08501457, -0.03742468,  0.02803147,\n",
       "       -0.03043814, -0.03872863, -0.06079003, -0.02744702, -0.04555462,\n",
       "       -0.04166563,  0.02294953, -0.00890772,  0.03659591,  0.06114036,\n",
       "        0.06022852,  0.00730516, -0.05374826, -0.07342547,  0.0635559 ,\n",
       "       -0.02188186, -0.03836515,  0.0463443 ,  0.01379978, -0.06367992,\n",
       "        0.01819838,  0.03096667,  0.07120764, -0.04727735, -0.01919422,\n",
       "       -0.06997076,  0.06060088,  0.04318035,  0.01275251,  0.00871689,\n",
       "       -0.06447857, -0.08068101,  0.06719186,  0.05054888, -0.04135891,\n",
       "        0.06009103,  0.06389817, -0.06065679,  0.07061281, -0.07046837,\n",
       "       -0.02256425,  0.03112839, -0.01990543,  0.06431872,  0.02948382,\n",
       "       -0.05843902, -0.03138007, -0.04149289, -0.06574103, -0.08108134,\n",
       "        0.05136535, -0.0323316 , -0.03313133,  0.02524966,  0.01627272,\n",
       "       -0.06440772,  0.06724507, -0.0559518 , -0.02047045,  0.0211122 ,\n",
       "       -0.0379956 , -0.01777586,  0.00550478,  0.05390326, -0.07052982,\n",
       "       -0.04188944, -0.05240764,  0.04729488,  0.00649106, -0.08089791,\n",
       "       -0.02246235, -0.01513929,  0.07525727,  0.03513633,  0.00622438,\n",
       "       -0.05758029, -0.05605291, -0.02567319,  0.00871973,  0.08797189,\n",
       "        0.06294576, -0.04478974, -0.01946397, -0.04794252,  0.07229208,\n",
       "       -0.02572219, -0.02839823, -0.01627588, -0.00482901, -0.02322448,\n",
       "       -0.02088052,  0.00514575,  0.08051491,  0.02683924,  0.05572658,\n",
       "       -0.01111511, -0.02163775,  0.03576881,  0.02719923, -0.06693167,\n",
       "       -0.01965079, -0.06419135, -0.06982632, -0.05596737, -0.03846385,\n",
       "       -0.05625049,  0.02697922,  0.03189462, -0.03502892,  0.00126972,\n",
       "        0.0791462 , -0.06525046, -0.0434884 ,  0.07409828,  0.05267162,\n",
       "       -0.02395628, -0.03535665, -0.01188218,  0.06883798,  0.07990044,\n",
       "        0.0435487 ,  0.0738502 , -0.0397055 , -0.03022692,  0.00342695,\n",
       "        0.03523299, -0.01714588, -0.00714563, -0.01124314, -0.04695929,\n",
       "       -0.04674269,  0.01363913, -0.05000744,  0.00970747,  0.04552991,\n",
       "       -0.00173261, -0.00574709,  0.01499993, -0.00090611, -0.04668423,\n",
       "        0.02263894, -0.04804719,  0.04725282, -0.04426831, -0.01359046,\n",
       "       -0.05391877,  0.05003103, -0.04486421,  0.00910401,  0.04270825,\n",
       "       -0.04856048,  0.02595442, -0.02424044,  0.01552975,  0.03612202,\n",
       "        0.02247175, -0.0480306 , -0.0252219 , -0.02411785,  0.05659079,\n",
       "       -0.0204711 , -0.0312988 , -0.04509944,  0.06373878, -0.02471493,\n",
       "       -0.05967475, -0.05644219,  0.05480448, -0.07896504,  0.05627159,\n",
       "       -0.06401889, -0.02458911,  0.00508998, -0.00226853, -0.04319202,\n",
       "       -0.07729242, -0.02068735, -0.04094058, -0.03589468,  0.03620931,\n",
       "        0.0824948 , -0.07238815,  0.06222383,  0.0056034 , -0.00899473,\n",
       "        0.03387518,  0.0520022 ,  0.05345161,  0.05803434, -0.04404869,\n",
       "       -0.02269062, -0.04318384,  0.01007888,  0.06519885, -0.03829425,\n",
       "        0.04889485, -0.05239297, -0.05315975,  0.0702768 , -0.01588631,\n",
       "       -0.05248488,  0.01964924, -0.05925018, -0.05050683,  0.04481004,\n",
       "        0.05976414, -0.06245371,  0.06078232, -0.05093927,  0.06648742,\n",
       "       -0.02273336, -0.04523506,  0.06658475, -0.02789566,  0.02694052,\n",
       "       -0.03280655, -0.0088998 ,  0.01165641, -0.05184593, -0.05814485,\n",
       "        0.05572544, -0.04493336,  0.07406389,  0.02792152,  0.08104851,\n",
       "       -0.05722109, -0.0596182 , -0.02534008,  0.04319506,  0.0448889 ,\n",
       "        0.01106773, -0.06009709, -0.05095811,  0.08297595, -0.01819254,\n",
       "       -0.0485627 , -0.0488439 , -0.02047108, -0.03496682, -0.02788092,\n",
       "       -0.03027615, -0.0334794 ,  0.05524499,  0.07913923, -0.04944941,\n",
       "        0.00628503,  0.00503957, -0.024921  , -0.02402926,  0.0762012 ,\n",
       "        0.00910777,  0.0270073 , -0.00025245, -0.03188079, -0.03883254,\n",
       "        0.04589418,  0.00769421, -0.00543807,  0.05947413,  0.07179046,\n",
       "       -0.06746321,  0.05279686, -0.03086359, -0.00170497, -0.0549683 ,\n",
       "        0.05076549, -0.01272485,  0.03106524, -0.00411688,  0.06368083,\n",
       "        0.08152181,  0.07521835, -0.03524499, -0.04192217, -0.0352548 ,\n",
       "        0.04420674, -0.04080765, -0.0108242 ,  0.02642204, -0.05165671,\n",
       "        0.03161143,  0.00456739, -0.05818486,  0.03681928,  0.01664665,\n",
       "       -0.02521278, -0.03424269,  0.05294012,  0.07634384,  0.07064157,\n",
       "        0.05297013, -0.05432338,  0.00484019,  0.05753811,  0.03193156,\n",
       "        0.06228927,  0.06851806, -0.01430794,  0.04491331, -0.03333145,\n",
       "       -0.02061192, -0.02624317,  0.04440094, -0.02076778,  0.07083473,\n",
       "       -0.01747753,  0.05453352, -0.06816114, -0.02693904, -0.05945816,\n",
       "        0.0153085 , -0.04102681,  0.06231098, -0.00599878,  0.07258274,\n",
       "       -0.00343236,  0.06550685,  0.04833365,  0.06736173, -0.0301184 ,\n",
       "        0.06990444, -0.07460162,  0.00135667,  0.02134446, -0.01423727,\n",
       "       -0.0227827 ,  0.00692868,  0.00351493, -0.03087243,  0.0201392 ,\n",
       "       -0.02493508,  0.05955605,  0.06588377, -0.02538069,  0.0189613 ,\n",
       "        0.06405678,  0.02694326, -0.00474517,  0.03715319,  0.06501252,\n",
       "        0.02513477,  0.05519589,  0.07205335,  0.02694814,  0.05401256,\n",
       "        0.02850517, -0.03578224, -0.04311112,  0.0181886 ,  0.06765173,\n",
       "       -0.02614356,  0.00429649,  0.07976056,  0.00312704, -0.03012839,\n",
       "        0.0314964 , -0.04136726, -0.04314735,  0.05188188, -0.05158747,\n",
       "       -0.06214709,  0.0553712 ,  0.0518127 , -0.03640981,  0.03290107,\n",
       "        0.08172361,  0.05382448,  0.00278924, -0.04694983, -0.04089809,\n",
       "       -0.06434481,  0.07944974, -0.07711782, -0.00016   , -0.04686843,\n",
       "       -0.0609718 ,  0.05627454, -0.04144416, -0.05820765, -0.0444427 ,\n",
       "       -0.02740323, -0.02501758, -0.07111308, -0.00689178, -0.03411236,\n",
       "        0.04998054,  0.04441003,  0.04403322,  0.04816775,  0.06568923,\n",
       "       -0.03751404, -0.00659191, -0.00950269, -0.06485627, -0.02083622,\n",
       "       -0.06216734, -0.00437095,  0.03903425, -0.0147107 , -0.06616104,\n",
       "        0.00014773,  0.0707947 ,  0.04850018,  0.02509545, -0.02453783,\n",
       "        0.06170868,  0.06113966,  0.05176521, -0.02058642, -0.06340059,\n",
       "       -0.06347586,  0.07482641,  0.03813041, -0.0467172 ,  0.05506644,\n",
       "       -0.05592348, -0.04393102,  0.08175869,  0.03918362, -0.04542743,\n",
       "       -0.06188337,  0.02016113, -0.03824324,  0.00444036,  0.08144692,\n",
       "       -0.03284686,  0.02130055, -0.04850973,  0.04135137, -0.01892461,\n",
       "       -0.00096604,  0.01761181, -0.04269805,  0.07314649,  0.00445076,\n",
       "        0.0074425 , -0.06148984, -0.05056882, -0.01543426, -0.05591614,\n",
       "       -0.00492209, -0.03873804,  0.07024732,  0.04286173, -0.02597792,\n",
       "       -0.03578355,  0.07276554,  0.05408196,  0.07898053,  0.06313915,\n",
       "       -0.02210665, -0.06989276, -0.0461427 ,  0.04878254, -0.02843448,\n",
       "       -0.03981095, -0.03525882,  0.082517  , -0.03199089, -0.03341648,\n",
       "       -0.06640642, -0.02414379,  0.04774873, -0.06107914,  0.067635  ,\n",
       "       -0.07221995,  0.06402997, -0.0126265 , -0.07198752, -0.01266815,\n",
       "       -0.06834517,  0.05722076, -0.04566342, -0.01837714,  0.05725404,\n",
       "       -0.02828283, -0.00460414, -0.05987497, -0.07133147, -0.03272013,\n",
       "        0.04501562,  0.05890896,  0.06966341, -0.02487981, -0.0523297 ,\n",
       "        0.02811862, -0.04597976, -0.06637666,  0.07134359, -0.01567537,\n",
       "       -0.02258389,  0.05351133,  0.04442979, -0.048823  , -0.06468666,\n",
       "       -0.02346603, -0.02751303, -0.01210955, -0.05807009,  0.0614868 ,\n",
       "       -0.07334422, -0.06611663,  0.07077414,  0.00316686,  0.05429908,\n",
       "       -0.07075829, -0.02354051,  0.07170834,  0.07006261,  0.07791213,\n",
       "       -0.00299237,  0.01267134, -0.05650167, -0.02408479,  0.00904599,\n",
       "       -0.0531474 ,  0.06162647, -0.04936644, -0.02578319,  0.00552791,\n",
       "        0.028849  , -0.02245474,  0.05974481, -0.0032671 ,  0.00859333,\n",
       "       -0.0567881 , -0.03052864, -0.05436494,  0.01460659,  0.08794123,\n",
       "       -0.02191651, -0.02061427, -0.04183289,  0.0171445 , -0.03046786,\n",
       "       -0.00216654,  0.02246975, -0.01266192,  0.07385324, -0.01944405,\n",
       "        0.00294812,  0.04111005,  0.04798434, -0.06715531, -0.02343152,\n",
       "        0.05783919,  0.04165709, -0.03234162, -0.03538863,  0.08376076,\n",
       "       -0.00036472, -0.029339  , -0.02246684, -0.05348123, -0.01643393,\n",
       "       -0.04132528, -0.07312836, -0.02216456,  0.04028635, -0.03423548,\n",
       "       -0.03554745,  0.01886041,  0.01741147,  0.01703186, -0.02706877,\n",
       "        0.08962134, -0.03007138, -0.05689363, -0.03723437, -0.00472954,\n",
       "       -0.07426343, -0.06748891, -0.0310536 , -0.01337468, -0.05862782,\n",
       "        0.01769705,  0.01914242, -0.06750623, -0.06202231, -0.05647392,\n",
       "        0.05757328,  0.00754195,  0.07872144, -0.0350429 ,  0.0065247 ,\n",
       "       -0.03540247, -0.02768856, -0.02332583, -0.0590315 , -0.01168137,\n",
       "       -0.05490594, -0.04519663,  0.0130453 ,  0.07771058, -0.04075575,\n",
       "       -0.04126678,  0.05930692, -0.00162974, -0.06291775,  0.01828829,\n",
       "       -0.00563976, -0.04041635, -0.03838702, -0.05611004,  0.01335248,\n",
       "       -0.01250456, -0.06899692, -0.04772962,  0.01087487, -0.03206095,\n",
       "        0.0246513 ,  0.06352961,  0.06738454, -0.03625614, -0.03661012,\n",
       "        0.04100077,  0.07230401, -0.05264362,  0.03240775,  0.00385682,\n",
       "       -0.06268477, -0.02683753, -0.06578761,  0.00290353,  0.0778343 ,\n",
       "       -0.00910339,  0.01479425, -0.06221518, -0.04365924,  0.08409159,\n",
       "        0.06006097, -0.04636693, -0.05758363, -0.01030337,  0.05604335,\n",
       "        0.06130467,  0.05784301, -0.05817727,  0.02547681, -0.03933904,\n",
       "       -0.04814017,  0.01421842, -0.02134689, -0.05708193,  0.03236449,\n",
       "       -0.02267921, -0.03192889,  0.06624386, -0.04787413,  0.06115214,\n",
       "       -0.01765759,  0.00933443, -0.07942529, -0.01883526, -0.0800019 ,\n",
       "        0.02116651, -0.02808131, -0.04051013,  0.03277995, -0.04119826,\n",
       "        0.03156339, -0.06449742, -0.00626815,  0.05970963, -0.03525251,\n",
       "       -0.04076242, -0.01663682,  0.04705902,  0.02057787,  0.07342343,\n",
       "        0.03889925,  0.05003997,  0.04940939, -0.05609995, -0.03887076,\n",
       "       -0.00081093,  0.05367046,  0.04726302, -0.01817272, -0.00679163,\n",
       "       -0.05130052,  0.00529639,  0.01955526, -0.03432611,  0.05198601,\n",
       "        0.04937497, -0.03356509, -0.02030378,  0.04905212,  0.00880943,\n",
       "        0.04747361,  0.03761478, -0.00309579,  0.08407754, -0.06517581,\n",
       "        0.07654292,  0.07190979,  0.07569922,  0.02424153,  0.05412935,\n",
       "        0.02151256,  0.06172479, -0.03960283, -0.05222182, -0.0215422 ,\n",
       "       -0.04039553,  0.02454562,  0.06525869, -0.04217399, -0.06235364,\n",
       "       -0.07270232, -0.02187965, -0.02865401, -0.04039353, -0.00925963,\n",
       "       -0.08235821,  0.08419096, -0.03770661, -0.00808662, -0.05990164,\n",
       "       -0.06723923, -0.02310758, -0.01516474, -0.05402778,  0.05389423,\n",
       "        0.08015581, -0.06514288, -0.03911817, -0.03202914, -0.01501965,\n",
       "       -0.03291893,  0.01488035, -0.05587385, -0.05333405,  0.03739711,\n",
       "       -0.03942594,  0.08291914,  0.05490378,  0.07902273, -0.00582582,\n",
       "        0.07190997, -0.05442662,  0.05311505, -0.01405958,  0.0822262 ,\n",
       "        0.05388132,  0.06157479, -0.02840199, -0.03979931,  0.0662052 ,\n",
       "        0.00148116, -0.06006644, -0.01545246,  0.03694214, -0.05802629,\n",
       "        0.03562486, -0.03697788,  0.00081039,  0.06144977, -0.02162934,\n",
       "       -0.03200574,  0.0549619 , -0.053807  , -0.07159572, -0.00996393,\n",
       "        0.08067242, -0.03388613,  0.02341677,  0.05459704,  0.05956727,\n",
       "        0.04178898, -0.03187346, -0.05941804, -0.06545966, -0.01531166,\n",
       "       -0.05189866,  0.07894618, -0.04868714,  0.07994708,  0.02957844,\n",
       "        0.01425889,  0.01191862,  0.048577  , -0.01414775, -0.04730814,\n",
       "       -0.07021689,  0.02469087,  0.00646471,  0.04760561,  0.05246222,\n",
       "        0.06571753,  0.04710059, -0.03746909, -0.03896286, -0.07285618,\n",
       "        0.06033129,  0.03417115, -0.04545515,  0.03314182, -0.04331959,\n",
       "        0.0664604 , -0.02955666,  0.00763088,  0.0218921 ,  0.06316511,\n",
       "       -0.03081547,  0.03684098,  0.04335456,  0.04326379,  0.07308797,\n",
       "        0.02625459, -0.04881436,  0.0105021 ,  0.06652555,  0.06315874,\n",
       "       -0.01891584,  0.0671994 ,  0.01099679,  0.05007234,  0.05834976,\n",
       "       -0.01672657, -0.01806292, -0.07110578,  0.07319121,  0.07750308,\n",
       "       -0.0373253 , -0.06973207,  0.06412233, -0.06037107, -0.06148524,\n",
       "        0.08059115, -0.00388753,  0.05682298, -0.06200481,  0.05843536,\n",
       "        0.01821873, -0.0590857 , -0.02101314, -0.00681236, -0.0171187 ,\n",
       "        0.07624944, -0.0279408 , -0.05148885, -0.06526823, -0.02940048,\n",
       "       -0.01629733, -0.02959472,  0.03259664, -0.04397228,  0.07643959,\n",
       "       -0.04887446,  0.05746518,  0.06768231,  0.03211026,  0.03269879,\n",
       "        0.05394242, -0.0452877 ,  0.05045704, -0.06255644,  0.00353185,\n",
       "       -0.02143229, -0.04886696, -0.0309694 ,  0.06759893, -0.05605748,\n",
       "        0.0609093 ,  0.00753908,  0.06765609, -0.00948995,  0.05954054,\n",
       "        0.03241846,  0.05339165, -0.04315008,  0.00149968,  0.0786991 ,\n",
       "        0.08004342, -0.07707957, -0.0623403 , -0.07481403, -0.04584443,\n",
       "        0.02803506,  0.04837459,  0.08423695, -0.04952507, -0.01593177,\n",
       "        0.06599357, -0.00418558,  0.0418905 ,  0.07213436,  0.00532551,\n",
       "        0.06122779,  0.00697632,  0.02113993, -0.01214803,  0.06148119,\n",
       "       -0.04561416, -0.01171153, -0.00601425,  0.05667261, -0.0506174 ,\n",
       "       -0.00613861, -0.08041362,  0.00810246,  0.04801007,  0.02060285,\n",
       "        0.03234604,  0.05774714, -0.03920633,  0.04366031,  0.07425539,\n",
       "       -0.0120756 , -0.04506045, -0.05992521, -0.0497181 ,  0.05629616,\n",
       "        0.05447029, -0.03985706, -0.05500036, -0.03422187, -0.04451125,\n",
       "       -0.06749127,  0.06836477,  0.02578079, -0.03871869,  0.00375211,\n",
       "        0.05440546, -0.06319085, -0.02709559,  0.03139471,  0.07605961,\n",
       "        0.04714428, -0.00856043, -0.04586416, -0.0335277 , -0.01839363,\n",
       "       -0.06023043, -0.03531367,  0.07199699, -0.0005754 , -0.02021768,\n",
       "        0.07039657, -0.03550645, -0.02590822, -0.06145816, -0.0022154 ,\n",
       "        0.00417002,  0.06234849,  0.05636462, -0.05682492, -0.01897994,\n",
       "       -0.03412209,  0.03799348, -0.01441059, -0.0565506 , -0.00688549,\n",
       "        0.06389532, -0.04473812, -0.01663341, -0.05383585,  0.06030909,\n",
       "       -0.06898215,  0.01559058, -0.0202497 , -0.05244647, -0.02911922,\n",
       "       -0.03319584,  0.06468133, -0.04148352, -0.06150148, -0.05137993])"
      ]
     },
     "execution_count": 36,
     "metadata": {},
     "output_type": "execute_result"
    }
   ],
   "source": [
    "agd(L, v, T = 500)"
   ]
  },
  {
   "cell_type": "markdown",
   "metadata": {},
   "source": [
    "If you did this correctly, you will see that the Nesterov acceleration method converges dramatically faster than Richardson iteration. \n",
    "\n",
    "We will now try to quantify this effect. Modify your implementations of `richardson` and `agd` to additionally return an array containing $\\norm{L x_i - b}$ for each $x_i$ encountered during the while loop of the algorithm. Compare these on a semilogy plot, and label your curves appropriately. Save the figure as `qsn6b.png`. "
   ]
  },
  {
   "cell_type": "code",
   "execution_count": 37,
   "metadata": {},
   "outputs": [],
   "source": [
    "#YOUR CODE HERE\n",
    "def richardson_updated(L, b, T=500):\n",
    "    numOfRow, numOfColm = L.shape\n",
    "    x = np.zeros(numOfRow)\n",
    "    distance = np.zeros(T)\n",
    "    steplength = 0.03\n",
    "    for i in range(T):\n",
    "        residual = b - np.dot(L,x)\n",
    "        x = x + steplength * residual\n",
    "        distance[i] = math.dist(np.dot(L,x), b)\n",
    "    return x, distance # returning tuple\n",
    "\n",
    "def agd_updated(L,b,T=500):\n",
    "    numOfRow, numOfColm = L.shape\n",
    "    globals()[f\"x{0}\"] <- np.zeros(numOfRow)\n",
    "    globals()[f\"y{0}\"] <- np.zeros(numOfRow)\n",
    "    distance = np.zeros(T)\n",
    "    steplength = 0.03\n",
    "    alpha = 0.9\n",
    "    for i in range(T):\n",
    "        globals()[f\"x{i+1}\"] <- globals()[f\"y{i}\"] + steplength * (b - np.dot(L, globals()[f\"y{i}\"]))\n",
    "        globals()[f\"y{i+1}\"] = globals()[f\"x{i+1}\"] + alpha * (globals()[f\"x{i+1}\"] - globals()[f\"x{i}\"])\n",
    "        distance[i] = math.dist(np.dot(L, globals()[f\"x{i}\"]), b)\n",
    "\n",
    "    return globals()[f\"x{T}\"], distance"
   ]
  },
  {
   "cell_type": "code",
   "execution_count": 38,
   "metadata": {},
   "outputs": [
    {
     "data": {
      "image/png": "[encoded data removed]",
      "text/plain": [
       "<Figure size 432x288 with 1 Axes>"
      ]
     },
     "metadata": {
      "needs_background": "light"
     },
     "output_type": "display_data"
    }
   ],
   "source": [
    "import matplotlib.pyplot as plt\n",
    "plt.semilogy(agd_updated(L, v, T=500)[1], richardson_updated(L, v, T=500)[1])\n",
    "plt.xlabel('agd')\n",
    "plt.ylabel('richardson')\n",
    "plt.show()"
   ]
  },
  {
   "cell_type": "markdown",
   "metadata": {},
   "source": [
    "### part (c)\n",
    "\n",
    "\n",
    "We are finally ready to apply our linear system solver to spectral clustering. We do this via a modification of the power method from Lecture 4. We provide the pseudocode for this method below:\n",
    "\n",
    "```\n",
    "    input) L: an n x n Laplacian matrix, iters: number of iterations\n",
    "    outputs) l: the second-smallest eigenvalue of L\n",
    "             v: the corresponding eigenvector\n",
    "\n",
    "    v <- random vector of length n\n",
    "    v <-  v - sum(v)/n \n",
    "    #this ensures v is orthogonal to the all-ones vector (the smallest eigenvalue of L) \n",
    "    for i = 0,1,2...iters-1: \n",
    "        v <- x solving the equation L*x = v\n",
    "        v <-  v - sum(v)/n \n",
    "        #this ensures v is orthogonal to the all-ones vector (the smallest eigenvalue of L) \n",
    "        v <- v / ||v||_2\n",
    "        l <- v^T L v\n",
    "```\n",
    "\n",
    "Here, `||v||_2` denotes the vector $2$-norm (there is a function in numpy to compute this). Write a function `pow_method(L,iters=20)` which implements the above pseudocode and solves the linear systems using your `agd` implementation from part (b). "
   ]
  },
  {
   "cell_type": "code",
   "execution_count": 39,
   "metadata": {},
   "outputs": [
    {
     "data": {
      "text/plain": [
       "0.11372337484520824"
      ]
     },
     "execution_count": 39,
     "metadata": {},
     "output_type": "execute_result"
    }
   ],
   "source": [
    "def pow_method(L,iters=20):\n",
    "    numOfRow, numOfColm = L.shape\n",
    "    v = np.random.rand(numOfRow)\n",
    "    v = v - np.sum(v)/n\n",
    "    for i in range(iters):\n",
    "        v = agd(L,v)\n",
    "        v = v - np.sum(v)/n\n",
    "\n",
    "        v = v / np.linalg.norm(v,2)\n",
    "        l = np.dot(v**1,np.dot(L,v))\n",
    "    return l,v\n",
    "l, v = pow_method(L,iters=20)\n",
    "l"
   ]
  },
  {
   "cell_type": "markdown",
   "metadata": {},
   "source": [
    "For the matrix $L$ in the problem, the eigenvalue you obtain should be between $0.1$ and $0.2$. \n",
    "\n",
    "We are finally ready to implement spectral clustering. To do this, use the function `np.argsort` to identify the indices of the largest $500$ entries from $v$. These will (hopefully) correspond to the elements of one of the clusters in our dataset. Additionally, compute the indices of the smallest $500$ entries of $v$: these will give the datapoints belonging to the other cluster. \n",
    "\n",
    "Modify the plotting code from the K-means example from earlier to display the computed spectral clusters of our input data. Label your plot appropriately, and save the figure as `qsn6c.png`."
   ]
  },
  {
   "cell_type": "code",
   "execution_count": 40,
   "metadata": {},
   "outputs": [
    {
     "name": "stdout",
     "output_type": "stream",
     "text": [
      "0\n",
      "0\n",
      "0\n",
      "0\n",
      "0\n",
      "0\n",
      "0\n",
      "0\n",
      "0\n",
      "0\n",
      "0\n",
      "0\n",
      "0\n",
      "0\n",
      "0\n",
      "0\n",
      "0\n",
      "0\n",
      "0\n",
      "0\n",
      "0\n",
      "0\n",
      "0\n",
      "0\n",
      "0\n",
      "0\n",
      "0\n",
      "0\n",
      "0\n",
      "0\n",
      "0\n",
      "0\n",
      "0\n",
      "0\n",
      "0\n",
      "0\n",
      "0\n",
      "0\n",
      "0\n",
      "0\n",
      "0\n",
      "0\n",
      "0\n",
      "0\n",
      "0\n",
      "0\n",
      "0\n",
      "0\n",
      "0\n",
      "0\n",
      "0\n",
      "0\n",
      "0\n",
      "0\n",
      "0\n",
      "0\n",
      "0\n",
      "0\n",
      "0\n",
      "0\n",
      "0\n",
      "0\n",
      "0\n",
      "0\n",
      "0\n",
      "0\n",
      "0\n",
      "0\n",
      "0\n",
      "0\n",
      "0\n",
      "0\n",
      "0\n",
      "0\n",
      "0\n",
      "0\n",
      "0\n",
      "0\n",
      "0\n",
      "0\n",
      "0\n",
      "0\n",
      "0\n",
      "0\n",
      "0\n",
      "0\n",
      "0\n",
      "0\n",
      "0\n",
      "0\n",
      "0\n",
      "0\n",
      "0\n",
      "0\n",
      "0\n",
      "0\n",
      "0\n",
      "0\n",
      "0\n",
      "0\n",
      "0\n",
      "0\n",
      "0\n",
      "0\n",
      "0\n",
      "0\n",
      "0\n",
      "0\n",
      "0\n",
      "0\n",
      "0\n",
      "0\n",
      "0\n",
      "0\n",
      "0\n",
      "0\n",
      "0\n",
      "0\n",
      "0\n",
      "0\n",
      "0\n",
      "0\n",
      "0\n",
      "0\n",
      "0\n",
      "0\n",
      "0\n",
      "0\n",
      "0\n",
      "0\n",
      "0\n",
      "0\n",
      "0\n",
      "0\n",
      "0\n",
      "0\n",
      "0\n",
      "0\n",
      "0\n",
      "0\n",
      "0\n",
      "0\n",
      "0\n",
      "0\n",
      "0\n",
      "0\n",
      "0\n",
      "0\n",
      "0\n",
      "0\n",
      "0\n",
      "0\n",
      "0\n",
      "0\n",
      "0\n",
      "0\n",
      "0\n",
      "0\n",
      "0\n",
      "0\n",
      "0\n",
      "0\n",
      "0\n",
      "0\n",
      "0\n",
      "0\n",
      "0\n",
      "0\n",
      "0\n",
      "0\n",
      "0\n",
      "0\n",
      "0\n",
      "0\n",
      "0\n",
      "0\n",
      "0\n",
      "0\n",
      "0\n",
      "0\n",
      "0\n",
      "0\n",
      "0\n",
      "0\n",
      "0\n",
      "0\n",
      "0\n",
      "0\n",
      "0\n",
      "0\n",
      "0\n",
      "0\n",
      "0\n",
      "0\n",
      "0\n",
      "0\n",
      "0\n",
      "0\n",
      "0\n",
      "0\n",
      "0\n",
      "0\n",
      "0\n",
      "0\n",
      "0\n",
      "0\n",
      "0\n",
      "0\n",
      "0\n",
      "0\n",
      "0\n",
      "0\n",
      "0\n",
      "0\n",
      "0\n",
      "0\n",
      "0\n",
      "0\n",
      "0\n",
      "0\n",
      "0\n",
      "0\n",
      "0\n",
      "0\n",
      "0\n",
      "0\n",
      "0\n",
      "0\n",
      "0\n",
      "0\n",
      "0\n",
      "0\n",
      "0\n",
      "0\n",
      "0\n",
      "0\n",
      "0\n",
      "0\n",
      "0\n",
      "0\n",
      "0\n",
      "0\n",
      "0\n",
      "0\n",
      "0\n",
      "0\n",
      "0\n",
      "0\n",
      "0\n",
      "0\n",
      "0\n",
      "0\n",
      "0\n",
      "0\n",
      "0\n",
      "0\n",
      "0\n",
      "0\n",
      "0\n",
      "0\n",
      "0\n",
      "0\n",
      "0\n",
      "0\n",
      "0\n",
      "0\n",
      "0\n",
      "0\n",
      "0\n",
      "0\n",
      "0\n",
      "0\n",
      "0\n",
      "0\n",
      "0\n",
      "0\n",
      "0\n",
      "0\n",
      "0\n",
      "0\n",
      "0\n",
      "0\n",
      "0\n",
      "0\n",
      "0\n",
      "0\n",
      "0\n",
      "0\n",
      "0\n",
      "0\n",
      "0\n",
      "0\n",
      "0\n",
      "0\n",
      "0\n",
      "0\n",
      "0\n",
      "0\n",
      "0\n",
      "0\n",
      "0\n",
      "0\n",
      "0\n",
      "0\n",
      "0\n",
      "0\n",
      "0\n",
      "0\n",
      "0\n",
      "0\n",
      "0\n",
      "0\n",
      "0\n",
      "0\n",
      "0\n",
      "0\n",
      "0\n",
      "0\n",
      "0\n",
      "0\n",
      "0\n",
      "0\n",
      "0\n",
      "0\n",
      "0\n",
      "0\n",
      "0\n",
      "0\n",
      "0\n",
      "0\n",
      "0\n",
      "0\n",
      "0\n",
      "0\n",
      "0\n",
      "0\n",
      "0\n",
      "0\n",
      "0\n",
      "0\n",
      "0\n",
      "0\n",
      "0\n",
      "0\n",
      "0\n",
      "0\n",
      "0\n",
      "0\n",
      "0\n",
      "0\n",
      "0\n",
      "0\n",
      "0\n",
      "0\n",
      "0\n",
      "0\n",
      "0\n",
      "0\n",
      "0\n",
      "0\n",
      "0\n",
      "0\n",
      "0\n",
      "0\n",
      "0\n",
      "0\n",
      "0\n",
      "0\n",
      "0\n",
      "0\n",
      "0\n",
      "0\n",
      "0\n",
      "0\n",
      "0\n",
      "0\n",
      "0\n",
      "0\n",
      "0\n",
      "0\n",
      "0\n",
      "0\n",
      "0\n",
      "0\n",
      "0\n",
      "0\n",
      "0\n",
      "0\n",
      "0\n",
      "0\n",
      "0\n",
      "0\n",
      "0\n",
      "0\n",
      "0\n",
      "0\n",
      "0\n",
      "0\n",
      "0\n",
      "0\n",
      "0\n",
      "0\n",
      "0\n",
      "0\n",
      "0\n",
      "0\n",
      "0\n",
      "0\n",
      "0\n",
      "0\n",
      "0\n",
      "0\n",
      "0\n",
      "0\n",
      "0\n",
      "0\n",
      "0\n",
      "0\n",
      "0\n",
      "0\n",
      "0\n",
      "0\n",
      "0\n",
      "0\n",
      "0\n",
      "0\n",
      "0\n",
      "0\n",
      "0\n",
      "0\n",
      "0\n",
      "0\n",
      "0\n",
      "0\n",
      "0\n",
      "0\n",
      "0\n",
      "0\n",
      "0\n",
      "0\n",
      "0\n",
      "0\n",
      "0\n",
      "0\n",
      "0\n",
      "0\n",
      "0\n",
      "0\n",
      "0\n",
      "0\n",
      "0\n",
      "0\n",
      "0\n",
      "0\n",
      "0\n",
      "0\n",
      "0\n",
      "0\n",
      "0\n",
      "0\n",
      "0\n",
      "0\n",
      "0\n",
      "0\n",
      "0\n",
      "0\n",
      "0\n",
      "0\n",
      "0\n",
      "0\n",
      "0\n",
      "0\n",
      "0\n",
      "0\n",
      "0\n",
      "0\n",
      "0\n",
      "0\n",
      "0\n",
      "0\n",
      "0\n",
      "0\n",
      "0\n",
      "0\n",
      "0\n",
      "0\n",
      "0\n",
      "0\n",
      "0\n",
      "0\n",
      "0\n",
      "0\n",
      "0\n",
      "0\n",
      "0\n",
      "0\n",
      "0\n",
      "0\n",
      "0\n",
      "1\n"
     ]
    }
   ],
   "source": [
    "sorted_index = np.argsort(v)\n",
    "first_500 = sorted_index[:500] # biggest\n",
    "last_500 = sorted_index[500:]\n",
    "for i in range(500):\n",
    "    print(dataset[1][first_500[i]])"
   ]
  },
  {
   "cell_type": "code",
   "execution_count": 41,
   "metadata": {},
   "outputs": [],
   "source": [
    "cluster1_x = np.array([dataset[0][first_500[i]] for i in range(int(n/2))])[:,:1]\n",
    "cluster1_y = np.array([dataset[0][first_500[i]] for i in range(int(n/2))])[:,1:]\n",
    "cluster2_x = np.array([dataset[0][last_500[i]] for i in range(int(n/2))])[:,:1]\n",
    "cluster2_y = np.array([dataset[0][last_500[i]] for i in range(int(n/2))])[:,1:]"
   ]
  },
  {
   "cell_type": "code",
   "execution_count": 42,
   "metadata": {},
   "outputs": [
    {
     "data": {
      "text/plain": [
       "<matplotlib.legend.Legend at 0x1d7c439a820>"
      ]
     },
     "execution_count": 42,
     "metadata": {},
     "output_type": "execute_result"
    },
    {
     "data": {
      "image/png": "[encoded data removed]",
      "text/plain": [
       "<Figure size 432x288 with 1 Axes>"
      ]
     },
     "metadata": {
      "needs_background": "light"
     },
     "output_type": "display_data"
    }
   ],
   "source": [
    "#YOUR CODE HERE\n",
    "plt.scatter(cluster1_x, cluster1_y,label=\"K-Means Cluster 1\")\n",
    "plt.scatter(cluster2_x, cluster2_y,label=\"K-Means Cluster 2\")\n",
    "    \n",
    "    \n",
    "plt.legend()\n",
    "\n",
    "# The error margin is 0.002 which is really low for such an complex scattering."
   ]
  },
  {
   "cell_type": "markdown",
   "metadata": {},
   "source": [
    "# Submission Instructions\n",
    "\n",
    "You need to submit the following in canvas\n",
    "1. This notebook with the code filled in for each question\n",
    "2. The figures\n",
    "    1. qsn3.png\n",
    "    2. qsn4c.png and qsn4c_semilogy.png\n",
    "    3. qsn5.png\n",
    "    4. qsn6b.png\n",
    "    5. qsn6c.png"
   ]
  },
  {
   "cell_type": "code",
   "execution_count": null,
   "metadata": {},
   "outputs": [],
   "source": []
  }
 ],
 "metadata": {
  "kernelspec": {
   "display_name": "Python 3 (ipykernel)",
   "language": "python",
   "name": "python3"
  },
  "language_info": {
   "codemirror_mode": {
    "name": "ipython",
    "version": 3
   },
   "file_extension": ".py",
   "mimetype": "text/x-python",
   "name": "python",
   "nbconvert_exporter": "python",
   "pygments_lexer": "ipython3",
   "version": "3.9.7"
  }
 },
 "nbformat": 4,
 "nbformat_minor": 2
}
